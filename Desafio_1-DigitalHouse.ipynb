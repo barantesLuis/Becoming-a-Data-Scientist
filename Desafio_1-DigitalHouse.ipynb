{
 "cells": [
  {
   "cell_type": "markdown",
   "metadata": {
    "id": "bNk6vFoUOtJ-"
   },
   "source": [
    "## Desafio_1\n",
    "\n",
    "Agora vamos praticas tudo o que aprendemos no módulo 1 utilizando dados reais do CAGED (Cadastro Geral de Empregados e Desempregados)\n",
    "\n",
    "<br>\n",
    "<img src=\"img/caged.png\" width='280' >\n",
    "<br>\n",
    "\n",
    "O Cadastro Geral de Empregados e Desempregados (CAGED) foi criado como registro permanente de admissões e dispensa de empregados, sob o regime da Consolidação das Leis do Trabalho (CLT).\n",
    "\n",
    "É utilizado pelo Programa de Seguro-Desemprego, para conferir os dados referentes aos vínculos trabalhistas, além de outros programas sociais.\n",
    "\n",
    "Este Cadastro serve, ainda, como base para a elaboração de estudos, pesquisas, projetos e programas ligados ao mercado de trabalho, ao mesmo tempo em que subsidia a tomada de decisões para ações governamentais.\n",
    "\n",
    "Visite o sitee do CAGED através [deste link](http://trabalho.gov.br/trabalhador-caged/2015-09-10-17-46-22) e acesse os dados clicando inicialemente em **ESTATÍSTICA** e depois em **MICRODADOS**, então acesse a base de dados do CAGED e baixe o último arquivo do ano de 2018 **CAGEDEST_122018.7z**. Além disso, baize também o arquivo **CAGEDEST_layout_Atualizado.xls** para o dicionário de dados.\n",
    "Chegando [NESTE LINK](ftp://ftp.mtps.gov.br/pdet/microdados/)\n",
    "Após isso, podemos começar as nossas análises:\n",
    "\n",
    "1. **Importar as bibliotecas** e ler os dados: Importe as bibliotecas necessárias e verifique a cara dos dados e suas informações básicas dos conteúdos das colunas.\n",
    "\n",
    "2. Limpeza e transformação da variável alvo **Salário Mensal**: verifique o tipo de dado da variával Salário Mensal, faça as devidas mudanças, plote a distribuição e dispersão dos dados e aplique a transformação matemática para a correção da assimetria.\n",
    "\n",
    "3. Verificação dos dados da variável **Idade**: verifique os dados da variável Idade, plote uma distribuição e uma dispersão, calcule a correlação com a variável salário mensal e interprete os resultados.\n",
    "\n",
    "4. Verificação dos dados da variável **Grau de Instrução**: verifique os dados da variável Grau de instrução, plote uma distribuição e uma dispersão, calcule a correlação com a variável salário mensal e interprete os resultados.\n",
    "\n",
    "5. Verificação dos dados da variável **Sexo**: verifique os dados da variável Sexo, plote uma distribuição e uma dispersão, calcule a correlação com a variável salário mensal e interprete os resultados. Depois disso, faça uma inferência estatística pra verificar se os homens ganham mais que as mulheres.\n",
    "\n",
    "6. Verificação dos dados da variável **Raça Cor**: verifique os dados da variável Raça Cor, plote uma distribuição e uma dispersão, calcule a correlação com a variável salário mensal e interprete os resultados. Depois disso, faça uma inferência estatística pra verificar se os brancos ganham mais que os outros grupos étnicos.\n",
    "\n",
    "7. Elaborar uma hipótese para ser rejeitada ou não-rejeitada por você de acordo com o resultado da sua análise, através da utilização dos dados do CAGED considerando as suas colunas.\n",
    "\n",
    "8. Avançado: plote um SEABORN heatmap com **todas as correlações das variávies numéricas entre si**. \n",
    "\n",
    "9. Avançado: Plote uma **regressão múltipla**.\n"
   ]
  },
  {
   "cell_type": "code",
   "execution_count": null,
   "metadata": {
    "id": "i6JBLh7uOtJ_"
   },
   "outputs": [],
   "source": [
    "#Importando Bibliotecas\n",
    "import pandas as pd\n",
    "import numpy as np\n",
    "import statsmodels.formula.api as smf\n",
    "import matplotlib.pyplot as plt\n",
    "import matplotlib.mlab as mlab\n",
    "import seaborn as sns\n",
    "from scipy import stats\n",
    "from sklearn import linear_model\n",
    "from sklearn.metrics import mean_squared_error, r2_score\n",
    "import random\n",
    "\n",
    "import warnings\n",
    "warnings.filterwarnings(\"ignore\")\n",
    "\n",
    "%matplotlib inline"
   ]
  },
  {
   "cell_type": "markdown",
   "metadata": {
    "id": "DNw3Afk_OtKE"
   },
   "source": [
    "# Importando dataframe: Local"
   ]
  },
  {
   "cell_type": "code",
   "execution_count": null,
   "metadata": {
    "id": "y_yPKOMNOtKE"
   },
   "outputs": [],
   "source": [
    "#Importanto dataframe guia - Local\n",
    "df_guia=pd.read_excel(r\"\\CAGEDEST_layout.xls\")\n",
    "#Importanto data frame - Local\n",
    "df = pd.read_csv(r'CAGEDEST_122018.txt',\n",
    "                 sep = ';',\n",
    "                 decimal = ',',\n",
    "                thousands = '.', \n",
    "                encoding='latin1', \n",
    "                 usecols = ['Admitidos/Desligados','Competência Declarada', 'Ano Declarado', 'Sexo', 'Município', 'Grau Instrução', 'Salário Mensal', 'Idade', 'Raça Cor', 'UF', 'Tempo Emprego']\n",
    "                )"
   ]
  },
  {
   "cell_type": "markdown",
   "metadata": {
    "id": "gxwasyl5OtKH"
   },
   "source": [
    "# Importando dataframe: Colab"
   ]
  },
  {
   "cell_type": "code",
   "execution_count": null,
   "metadata": {
    "id": "MXsznURTOtKI"
   },
   "outputs": [],
   "source": [
    "#from google.colab import drive\n",
    "#drive.mount('/content/drive')"
   ]
  },
  {
   "cell_type": "code",
   "execution_count": null,
   "metadata": {
    "id": "fm4TmqstWdJ6"
   },
   "outputs": [],
   "source": [
    "#import os\n",
    "#os.getcwd()"
   ]
  },
  {
   "cell_type": "code",
   "execution_count": null,
   "metadata": {
    "id": "RE7QdFwdOtKM"
   },
   "outputs": [],
   "source": [
    "# Importanto dataframe guia - Colab\n",
    "#df_guia = pd.read_excel(\")\n",
    "# Importanto data frame - Colab\n",
    "#df = pd.read_csv(r\"\",\n",
    " #                sep = ';',\n",
    " #                decimal = ',',\n",
    " #               thousands = '.', \n",
    " #               encoding='latin1', \n",
    "  #              usecols = ['Admitidos/Desligados','Competência Declarada', 'Ano Declarado', 'Sexo' ,'Município', 'Grau Instrução', 'Salário Mensal', 'Idade', 'Raça Cor', 'UF', 'Tempo Emprego']\n",
    "#                )"
   ]
  },
  {
   "cell_type": "code",
   "execution_count": null,
   "metadata": {
    "colab": {
     "base_uri": "https://localhost:8080/",
     "height": 195
    },
    "executionInfo": {
     "elapsed": 7263,
     "status": "ok",
     "timestamp": 1605283237267,
     "user": {
      "displayName": "Luis Henrique Batista Arantes",
      "photoUrl": "",
      "userId": "13194031754074181800"
     },
     "user_tz": 180
    },
    "id": "3gXEWQWeOtKO",
    "outputId": "7b6b1d4a-aed3-42a5-fa71-3d423f9a40ae"
   },
   "outputs": [
    {
     "data": {
      "text/html": [
       "<div>\n",
       "<style scoped>\n",
       "    .dataframe tbody tr th:only-of-type {\n",
       "        vertical-align: middle;\n",
       "    }\n",
       "\n",
       "    .dataframe tbody tr th {\n",
       "        vertical-align: top;\n",
       "    }\n",
       "\n",
       "    .dataframe thead th {\n",
       "        text-align: right;\n",
       "    }\n",
       "</style>\n",
       "<table border=\"1\" class=\"dataframe\">\n",
       "  <thead>\n",
       "    <tr style=\"text-align: right;\">\n",
       "      <th></th>\n",
       "      <th>Admitidos/Desligados</th>\n",
       "      <th>Competência Declarada</th>\n",
       "      <th>Município</th>\n",
       "      <th>Ano Declarado</th>\n",
       "      <th>Grau Instrução</th>\n",
       "      <th>Idade</th>\n",
       "      <th>Raça Cor</th>\n",
       "      <th>Salário Mensal</th>\n",
       "      <th>Sexo</th>\n",
       "      <th>Tempo Emprego</th>\n",
       "      <th>UF</th>\n",
       "    </tr>\n",
       "  </thead>\n",
       "  <tbody>\n",
       "    <tr>\n",
       "      <th>0</th>\n",
       "      <td>1</td>\n",
       "      <td>201812</td>\n",
       "      <td>500215</td>\n",
       "      <td>2018</td>\n",
       "      <td>6</td>\n",
       "      <td>24</td>\n",
       "      <td>8</td>\n",
       "      <td>954.0</td>\n",
       "      <td>1</td>\n",
       "      <td>0.0</td>\n",
       "      <td>50</td>\n",
       "    </tr>\n",
       "    <tr>\n",
       "      <th>1</th>\n",
       "      <td>1</td>\n",
       "      <td>201812</td>\n",
       "      <td>500710</td>\n",
       "      <td>2018</td>\n",
       "      <td>8</td>\n",
       "      <td>25</td>\n",
       "      <td>2</td>\n",
       "      <td>2500.0</td>\n",
       "      <td>1</td>\n",
       "      <td>0.0</td>\n",
       "      <td>50</td>\n",
       "    </tr>\n",
       "    <tr>\n",
       "      <th>2</th>\n",
       "      <td>1</td>\n",
       "      <td>201812</td>\n",
       "      <td>500460</td>\n",
       "      <td>2018</td>\n",
       "      <td>2</td>\n",
       "      <td>55</td>\n",
       "      <td>8</td>\n",
       "      <td>0.0</td>\n",
       "      <td>1</td>\n",
       "      <td>0.0</td>\n",
       "      <td>50</td>\n",
       "    </tr>\n",
       "    <tr>\n",
       "      <th>3</th>\n",
       "      <td>1</td>\n",
       "      <td>201812</td>\n",
       "      <td>500460</td>\n",
       "      <td>2018</td>\n",
       "      <td>2</td>\n",
       "      <td>52</td>\n",
       "      <td>8</td>\n",
       "      <td>0.0</td>\n",
       "      <td>1</td>\n",
       "      <td>0.0</td>\n",
       "      <td>50</td>\n",
       "    </tr>\n",
       "    <tr>\n",
       "      <th>4</th>\n",
       "      <td>1</td>\n",
       "      <td>201812</td>\n",
       "      <td>500460</td>\n",
       "      <td>2018</td>\n",
       "      <td>2</td>\n",
       "      <td>32</td>\n",
       "      <td>8</td>\n",
       "      <td>0.0</td>\n",
       "      <td>1</td>\n",
       "      <td>0.0</td>\n",
       "      <td>50</td>\n",
       "    </tr>\n",
       "  </tbody>\n",
       "</table>\n",
       "</div>"
      ],
      "text/plain": [
       "   Admitidos/Desligados  Competência Declarada  Município  Ano Declarado  \\\n",
       "0                     1                 201812     500215           2018   \n",
       "1                     1                 201812     500710           2018   \n",
       "2                     1                 201812     500460           2018   \n",
       "3                     1                 201812     500460           2018   \n",
       "4                     1                 201812     500460           2018   \n",
       "\n",
       "   Grau Instrução  Idade  Raça Cor  Salário Mensal  Sexo  Tempo Emprego  UF  \n",
       "0               6     24         8           954.0     1            0.0  50  \n",
       "1               8     25         2          2500.0     1            0.0  50  \n",
       "2               2     55         8             0.0     1            0.0  50  \n",
       "3               2     52         8             0.0     1            0.0  50  \n",
       "4               2     32         8             0.0     1            0.0  50  "
      ]
     },
     "execution_count": 6,
     "metadata": {
      "tags": []
     },
     "output_type": "execute_result"
    }
   ],
   "source": [
    "#Explorando df\n",
    "df.head()"
   ]
  },
  {
   "cell_type": "code",
   "execution_count": null,
   "metadata": {
    "colab": {
     "base_uri": "https://localhost:8080/"
    },
    "executionInfo": {
     "elapsed": 7254,
     "status": "ok",
     "timestamp": 1605283237268,
     "user": {
      "displayName": "Luis Henrique Batista Arantes",
      "photoUrl": "",
      "userId": "13194031754074181800"
     },
     "user_tz": 180
    },
    "id": "JdJLOxooOtKS",
    "outputId": "da95a0de-1b74-4f99-d2b3-211cd39a5e83"
   },
   "outputs": [
    {
     "name": "stdout",
     "output_type": "stream",
     "text": [
      "<class 'pandas.core.frame.DataFrame'>\n",
      "RangeIndex: 2256752 entries, 0 to 2256751\n",
      "Data columns (total 11 columns):\n",
      " #   Column                 Dtype  \n",
      "---  ------                 -----  \n",
      " 0   Admitidos/Desligados   int64  \n",
      " 1   Competência Declarada  int64  \n",
      " 2   Município              int64  \n",
      " 3   Ano Declarado          int64  \n",
      " 4   Grau Instrução         int64  \n",
      " 5   Idade                  int64  \n",
      " 6   Raça Cor               int64  \n",
      " 7   Salário Mensal         float64\n",
      " 8   Sexo                   int64  \n",
      " 9   Tempo Emprego          float64\n",
      " 10  UF                     int64  \n",
      "dtypes: float64(2), int64(9)\n",
      "memory usage: 189.4 MB\n"
     ]
    }
   ],
   "source": [
    "df.info()"
   ]
  },
  {
   "cell_type": "code",
   "execution_count": null,
   "metadata": {
    "colab": {
     "base_uri": "https://localhost:8080/"
    },
    "executionInfo": {
     "elapsed": 7245,
     "status": "ok",
     "timestamp": 1605283237270,
     "user": {
      "displayName": "Luis Henrique Batista Arantes",
      "photoUrl": "",
      "userId": "13194031754074181800"
     },
     "user_tz": 180
    },
    "id": "cUJpGTB5OtKV",
    "outputId": "2e720147-1c39-4882-9291-f0d3c102379d"
   },
   "outputs": [
    {
     "data": {
      "text/plain": [
       "RangeIndex(start=0, stop=2256752, step=1)"
      ]
     },
     "execution_count": 8,
     "metadata": {
      "tags": []
     },
     "output_type": "execute_result"
    }
   ],
   "source": [
    "df.index"
   ]
  },
  {
   "cell_type": "markdown",
   "metadata": {
    "id": "dSwbQVzPOtKa"
   },
   "source": [
    "### 2. Limpeza e transformação da variável alvo **Salário Mensal**: verifique o tipo de dado da variável Salário Mensal, faça as devidas mudanças, plote a distribuição e dispersão dos dados e aplique a transformação matemática para a correção da assimetria.\n",
    "__________________________________________________________________________________________________________________________________________________________________________________________________________________________\n",
    "\n",
    "#### <font color='yellow'>Limpeza 1 - Removendo valores que são zero, pois são maioria e estão atrapalhando a interpretação da dispersão.</font>"
   ]
  },
  {
   "cell_type": "code",
   "execution_count": null,
   "metadata": {
    "id": "urMaJBSpOtKb"
   },
   "outputs": [],
   "source": [
    "#Limpeza 1 - Removendo valores que são zero, pois são maioria e estão atrapalhando a interpretação da dispersão.\n",
    "#df.loc[(df['Salário Mensal'] <= 0, 'Salário Mensal')]=1\n",
    "#df\n",
    "#df_limpeza_zeros = df.drop(remover_valores0_do_sal_mensal.index)\n",
    "#df_limpeza_zeros.reset_index()"
   ]
  },
  {
   "cell_type": "markdown",
   "metadata": {
    "id": "haNx8Q10OtKd"
   },
   "source": [
    "# Observação sobre a célula anterior\n",
    " - No começo do meu racíocinio, considerei que todos os campos alimentados com zero na coluna Salário Mensal deviam ser excluídos.\n",
    " - Mas ao rever a aula, a conclusão foi outra:\n",
    "     **A conclusão** foi que ao eliminar essas linhas, estarei eliminando dados importantes do meu dataset, posso estar eliminando dados que:\n",
    "- Afetem a média;\n",
    "- Pode ser um tratamento para valores nulos, de um tratamento anterior;\n",
    "\n",
    "Depende do que será feito a posteriormente com esses dados, por exemplo:\n",
    "No caso do exercício vamos aplicar um log ou até outro método que não permita \"zeros\" na tabela."
   ]
  },
  {
   "cell_type": "code",
   "execution_count": null,
   "metadata": {
    "colab": {
     "base_uri": "https://localhost:8080/"
    },
    "executionInfo": {
     "elapsed": 7236,
     "status": "ok",
     "timestamp": 1605283237275,
     "user": {
      "displayName": "Luis Henrique Batista Arantes",
      "photoUrl": "",
      "userId": "13194031754074181800"
     },
     "user_tz": 180
    },
    "id": "hDPk-9SnOtKe",
    "outputId": "c4497152-e605-49c3-ba81-b19558b737c0"
   },
   "outputs": [
    {
     "data": {
      "text/plain": [
       "0.0"
      ]
     },
     "execution_count": 10,
     "metadata": {
      "tags": []
     },
     "output_type": "execute_result"
    }
   ],
   "source": [
    "df['Salário Mensal'].min()"
   ]
  },
  {
   "cell_type": "code",
   "execution_count": null,
   "metadata": {
    "colab": {
     "base_uri": "https://localhost:8080/",
     "height": 343
    },
    "executionInfo": {
     "elapsed": 7844,
     "status": "ok",
     "timestamp": 1605283237893,
     "user": {
      "displayName": "Luis Henrique Batista Arantes",
      "photoUrl": "",
      "userId": "13194031754074181800"
     },
     "user_tz": 180
    },
    "id": "yXPaVsivOtKj",
    "outputId": "2b8b8920-e611-43cb-9d37-868c231967bc"
   },
   "outputs": [
    {
     "data": {
      "text/html": [
       "<div>\n",
       "<style scoped>\n",
       "    .dataframe tbody tr th:only-of-type {\n",
       "        vertical-align: middle;\n",
       "    }\n",
       "\n",
       "    .dataframe tbody tr th {\n",
       "        vertical-align: top;\n",
       "    }\n",
       "\n",
       "    .dataframe thead th {\n",
       "        text-align: right;\n",
       "    }\n",
       "</style>\n",
       "<table border=\"1\" class=\"dataframe\">\n",
       "  <thead>\n",
       "    <tr style=\"text-align: right;\">\n",
       "      <th></th>\n",
       "      <th>count</th>\n",
       "      <th>mean</th>\n",
       "      <th>std</th>\n",
       "      <th>min</th>\n",
       "      <th>25%</th>\n",
       "      <th>50%</th>\n",
       "      <th>75%</th>\n",
       "      <th>max</th>\n",
       "    </tr>\n",
       "  </thead>\n",
       "  <tbody>\n",
       "    <tr>\n",
       "      <th>Admitidos/Desligados</th>\n",
       "      <td>2256752.0</td>\n",
       "      <td>1.574103</td>\n",
       "      <td>0.494478</td>\n",
       "      <td>1.0</td>\n",
       "      <td>1.0</td>\n",
       "      <td>2.0</td>\n",
       "      <td>2.0</td>\n",
       "      <td>2.0</td>\n",
       "    </tr>\n",
       "    <tr>\n",
       "      <th>Competência Declarada</th>\n",
       "      <td>2256752.0</td>\n",
       "      <td>201812.000000</td>\n",
       "      <td>0.000000</td>\n",
       "      <td>201812.0</td>\n",
       "      <td>201812.0</td>\n",
       "      <td>201812.0</td>\n",
       "      <td>201812.0</td>\n",
       "      <td>201812.0</td>\n",
       "    </tr>\n",
       "    <tr>\n",
       "      <th>Município</th>\n",
       "      <td>2256752.0</td>\n",
       "      <td>355386.287837</td>\n",
       "      <td>83000.731507</td>\n",
       "      <td>110001.0</td>\n",
       "      <td>314700.0</td>\n",
       "      <td>353150.0</td>\n",
       "      <td>411790.0</td>\n",
       "      <td>530010.0</td>\n",
       "    </tr>\n",
       "    <tr>\n",
       "      <th>Ano Declarado</th>\n",
       "      <td>2256752.0</td>\n",
       "      <td>2018.000000</td>\n",
       "      <td>0.000000</td>\n",
       "      <td>2018.0</td>\n",
       "      <td>2018.0</td>\n",
       "      <td>2018.0</td>\n",
       "      <td>2018.0</td>\n",
       "      <td>2018.0</td>\n",
       "    </tr>\n",
       "    <tr>\n",
       "      <th>Grau Instrução</th>\n",
       "      <td>2256752.0</td>\n",
       "      <td>6.595547</td>\n",
       "      <td>1.548538</td>\n",
       "      <td>1.0</td>\n",
       "      <td>6.0</td>\n",
       "      <td>7.0</td>\n",
       "      <td>7.0</td>\n",
       "      <td>9.0</td>\n",
       "    </tr>\n",
       "    <tr>\n",
       "      <th>Idade</th>\n",
       "      <td>2256752.0</td>\n",
       "      <td>32.314226</td>\n",
       "      <td>10.960189</td>\n",
       "      <td>10.0</td>\n",
       "      <td>23.0</td>\n",
       "      <td>30.0</td>\n",
       "      <td>39.0</td>\n",
       "      <td>103.0</td>\n",
       "    </tr>\n",
       "    <tr>\n",
       "      <th>Raça Cor</th>\n",
       "      <td>2256752.0</td>\n",
       "      <td>5.254456</td>\n",
       "      <td>3.066560</td>\n",
       "      <td>1.0</td>\n",
       "      <td>2.0</td>\n",
       "      <td>6.0</td>\n",
       "      <td>8.0</td>\n",
       "      <td>9.0</td>\n",
       "    </tr>\n",
       "    <tr>\n",
       "      <th>Salário Mensal</th>\n",
       "      <td>2256752.0</td>\n",
       "      <td>1627.244223</td>\n",
       "      <td>2097.520547</td>\n",
       "      <td>0.0</td>\n",
       "      <td>1066.0</td>\n",
       "      <td>1271.0</td>\n",
       "      <td>1600.0</td>\n",
       "      <td>142830.0</td>\n",
       "    </tr>\n",
       "    <tr>\n",
       "      <th>Sexo</th>\n",
       "      <td>2256752.0</td>\n",
       "      <td>1.413703</td>\n",
       "      <td>0.492497</td>\n",
       "      <td>1.0</td>\n",
       "      <td>1.0</td>\n",
       "      <td>1.0</td>\n",
       "      <td>2.0</td>\n",
       "      <td>2.0</td>\n",
       "    </tr>\n",
       "    <tr>\n",
       "      <th>Tempo Emprego</th>\n",
       "      <td>2256752.0</td>\n",
       "      <td>13.180299</td>\n",
       "      <td>34.134545</td>\n",
       "      <td>0.0</td>\n",
       "      <td>0.0</td>\n",
       "      <td>2.0</td>\n",
       "      <td>11.0</td>\n",
       "      <td>599.0</td>\n",
       "    </tr>\n",
       "    <tr>\n",
       "      <th>UF</th>\n",
       "      <td>2256752.0</td>\n",
       "      <td>35.343807</td>\n",
       "      <td>8.311311</td>\n",
       "      <td>11.0</td>\n",
       "      <td>31.0</td>\n",
       "      <td>35.0</td>\n",
       "      <td>41.0</td>\n",
       "      <td>53.0</td>\n",
       "    </tr>\n",
       "  </tbody>\n",
       "</table>\n",
       "</div>"
      ],
      "text/plain": [
       "                           count           mean           std       min  \\\n",
       "Admitidos/Desligados   2256752.0       1.574103      0.494478       1.0   \n",
       "Competência Declarada  2256752.0  201812.000000      0.000000  201812.0   \n",
       "Município              2256752.0  355386.287837  83000.731507  110001.0   \n",
       "Ano Declarado          2256752.0    2018.000000      0.000000    2018.0   \n",
       "Grau Instrução         2256752.0       6.595547      1.548538       1.0   \n",
       "Idade                  2256752.0      32.314226     10.960189      10.0   \n",
       "Raça Cor               2256752.0       5.254456      3.066560       1.0   \n",
       "Salário Mensal         2256752.0    1627.244223   2097.520547       0.0   \n",
       "Sexo                   2256752.0       1.413703      0.492497       1.0   \n",
       "Tempo Emprego          2256752.0      13.180299     34.134545       0.0   \n",
       "UF                     2256752.0      35.343807      8.311311      11.0   \n",
       "\n",
       "                            25%       50%       75%       max  \n",
       "Admitidos/Desligados        1.0       2.0       2.0       2.0  \n",
       "Competência Declarada  201812.0  201812.0  201812.0  201812.0  \n",
       "Município              314700.0  353150.0  411790.0  530010.0  \n",
       "Ano Declarado            2018.0    2018.0    2018.0    2018.0  \n",
       "Grau Instrução              6.0       7.0       7.0       9.0  \n",
       "Idade                      23.0      30.0      39.0     103.0  \n",
       "Raça Cor                    2.0       6.0       8.0       9.0  \n",
       "Salário Mensal           1066.0    1271.0    1600.0  142830.0  \n",
       "Sexo                        1.0       1.0       2.0       2.0  \n",
       "Tempo Emprego               0.0       2.0      11.0     599.0  \n",
       "UF                         31.0      35.0      41.0      53.0  "
      ]
     },
     "execution_count": 11,
     "metadata": {
      "tags": []
     },
     "output_type": "execute_result"
    }
   ],
   "source": [
    "df.describe().T"
   ]
  },
  {
   "cell_type": "code",
   "execution_count": null,
   "metadata": {
    "colab": {
     "base_uri": "https://localhost:8080/",
     "height": 295
    },
    "executionInfo": {
     "elapsed": 10374,
     "status": "ok",
     "timestamp": 1605283240436,
     "user": {
      "displayName": "Luis Henrique Batista Arantes",
      "photoUrl": "",
      "userId": "13194031754074181800"
     },
     "user_tz": 180
    },
    "id": "gspHH8DzOtKp",
    "outputId": "80e48cb4-01fb-427b-e837-be3b6cdc53d5"
   },
   "outputs": [
    {
     "data": {
      "image/png": "[encoded data removed]",
      "text/plain": [
       "<Figure size 432x288 with 1 Axes>"
      ]
     },
     "metadata": {
      "needs_background": "dark",
      "tags": []
     },
     "output_type": "display_data"
    }
   ],
   "source": [
    "plt.scatter(df['Tempo Emprego'], \n",
    "            df['Salário Mensal'], \n",
    "            marker = \".\",\n",
    "            alpha = 0.2\n",
    "           )\n",
    "plt.title('Dispersão: Salário Mensal x Tempo de Emprego')\n",
    "plt.xlabel('Tempo Emprego (Meses)')\n",
    "plt.ylabel(\"Salário Mensal\")\n",
    "plt.rcParams['figure.figsize'] = (10,10)\n",
    "plt.show()"
   ]
  },
  {
   "cell_type": "code",
   "execution_count": null,
   "metadata": {
    "colab": {
     "base_uri": "https://localhost:8080/",
     "height": 606
    },
    "executionInfo": {
     "elapsed": 10820,
     "status": "ok",
     "timestamp": 1605283240896,
     "user": {
      "displayName": "Luis Henrique Batista Arantes",
      "photoUrl": "",
      "userId": "13194031754074181800"
     },
     "user_tz": 180
    },
    "id": "4Czvlb4WOtKu",
    "outputId": "a39df7bb-1672-4bc3-abfa-91bcfab7dfb4"
   },
   "outputs": [
    {
     "data": {
      "image/png": "[encoded data removed]",
      "text/plain": [
       "<Figure size 720x720 with 1 Axes>"
      ]
     },
     "metadata": {
      "needs_background": "dark",
      "tags": []
     },
     "output_type": "display_data"
    }
   ],
   "source": [
    "#df['Salário Mensal'].fillna(df['Salário Mensal'].mean(), inplace=True)\n",
    "histo_sal_mensal = plt.hist(df['Salário Mensal'], \n",
    "                             bins=200, \n",
    "                             range = (0,25000))\n",
    "plt.xlabel('Salário Mensal')\n",
    "plt.ylabel(\"Frequência\")\n",
    "plt.rcParams['figure.figsize'] = (10,10)\n",
    "plt.show()"
   ]
  },
  {
   "cell_type": "code",
   "execution_count": null,
   "metadata": {
    "colab": {
     "base_uri": "https://localhost:8080/",
     "height": 619
    },
    "executionInfo": {
     "elapsed": 11396,
     "status": "ok",
     "timestamp": 1605283241488,
     "user": {
      "displayName": "Luis Henrique Batista Arantes",
      "photoUrl": "",
      "userId": "13194031754074181800"
     },
     "user_tz": 180
    },
    "id": "qFWr3Zn4OtKz",
    "outputId": "b89d6a1f-800e-4202-b27a-ae6900b395fd"
   },
   "outputs": [
    {
     "data": {
      "text/plain": [
       "<AxesSubplot:>"
      ]
     },
     "execution_count": 14,
     "metadata": {
      "tags": []
     },
     "output_type": "execute_result"
    },
    {
     "data": {
      "image/png": "[encoded data removed]",
      "text/plain": [
       "<Figure size 720x720 with 1 Axes>"
      ]
     },
     "metadata": {
      "needs_background": "dark",
      "tags": []
     },
     "output_type": "display_data"
    }
   ],
   "source": [
    "df['Salário Mensal'].hist(bins = 200)"
   ]
  },
  {
   "cell_type": "markdown",
   "metadata": {
    "id": "K0ZzpktwOtK5"
   },
   "source": [
    "# Observação sobre a célula anterior\n",
    "- No python, é usado todo o range da tabela e as vezes precisamos estudar uma parcela do gráfico, que é como fosse aplicado um zoom e conseguissemos entender como aquela parcela de dados se comporta\n",
    "- Ao trocar o range, variando de 25000 em 25000, fiz o teste para 25000:50000, 50000:75000, 75000:140000...\n",
    "- A conclusão que cheguei foi que em todas essa parcelas, o gráfico se comportou como uma normal descentralizada."
   ]
  },
  {
   "cell_type": "markdown",
   "metadata": {
    "id": "sZi1vipPOtK5"
   },
   "source": [
    "________________________________________________________________________________________________________________________________________________________________________________________________________________________________"
   ]
  },
  {
   "cell_type": "markdown",
   "metadata": {
    "id": "o8xGWTr8OtK7"
   },
   "source": [
    "### Teste de Shapiro_Wilks\n",
    "\n",
    "O test shapiro-wilks é um indicador de quão bem os nossos dados se ajustam à distribuição normal. O primeiro parâmetro da estatística W (quando está próximo de 1 a distribuição é Gaussiana), e o segundo parâmetro é o p_valor (quando p_valor é maior que 0.05, a distribuição é Gaussiana)."
   ]
  },
  {
   "cell_type": "code",
   "execution_count": null,
   "metadata": {
    "colab": {
     "base_uri": "https://localhost:8080/"
    },
    "executionInfo": {
     "elapsed": 11389,
     "status": "ok",
     "timestamp": 1605283241491,
     "user": {
      "displayName": "Luis Henrique Batista Arantes",
      "photoUrl": "",
      "userId": "13194031754074181800"
     },
     "user_tz": 180
    },
    "id": "7dLaZ4BSOtK8",
    "outputId": "610bcfc3-fbda-451c-c7c4-27f4dec7c57b"
   },
   "outputs": [
    {
     "name": "stderr",
     "output_type": "stream",
     "text": [
      "c:\\arquivos de programas\\python\\python38\\envs\\mod0\\lib\\site-packages\\scipy\\stats\\morestats.py:1676: UserWarning: p-value may not be accurate for N > 5000.\n",
      "  warnings.warn(\"p-value may not be accurate for N > 5000.\")\n"
     ]
    },
    {
     "data": {
      "text/plain": [
       "(0.3946847915649414, 0.0)"
      ]
     },
     "execution_count": 15,
     "metadata": {
      "tags": []
     },
     "output_type": "execute_result"
    }
   ],
   "source": [
    "shap_test = df['Salário Mensal'].iloc[0:25000]\n",
    "stats.shapiro(shap_test)"
   ]
  },
  {
   "cell_type": "markdown",
   "metadata": {
    "id": "7leekPboOtLB"
   },
   "source": [
    "##### Parâmetro da estatística W = 0.394668 => Não está próximo de 1, não é Gaussiana\n",
    "##### P_valor = 0 => Não é maior que 0.05, Não é Gaussiana\n",
    "_______________________________________________________________________________________________________________________________\n",
    "\n",
    "# Portanto vamos padronizar e normalizar os dados\n"
   ]
  },
  {
   "cell_type": "markdown",
   "metadata": {
    "id": "ib_WNsLBOtLB"
   },
   "source": [
    "# Padronização"
   ]
  },
  {
   "cell_type": "markdown",
   "metadata": {
    "id": "4BomTURCOtLC"
   },
   "source": [
    "### Uso do log1p\n",
    "<font color='orange'>log1p - Soma 1 em todos os valores da coluna e quem era 0 passa a ser 1. (Deixando de ser necessário, realizar o tratamento para remover os zeros)</font>\n",
    "\n",
    "### Para números negativos\n",
    "<font color='orange'>Somar todos os valores da coluna pelo menor valor possível, o mais negativo possível da coluna, levando todos os dados para o lado positivo da curva</font>"
   ]
  },
  {
   "cell_type": "code",
   "execution_count": null,
   "metadata": {
    "id": "qMR15MqVOtLD"
   },
   "outputs": [],
   "source": [
    "df['log_Salário'] = np.log1p(df['Salário Mensal'])"
   ]
  },
  {
   "cell_type": "code",
   "execution_count": null,
   "metadata": {
    "colab": {
     "base_uri": "https://localhost:8080/",
     "height": 609
    },
    "executionInfo": {
     "elapsed": 12292,
     "status": "ok",
     "timestamp": 1605283242411,
     "user": {
      "displayName": "Luis Henrique Batista Arantes",
      "photoUrl": "",
      "userId": "13194031754074181800"
     },
     "user_tz": 180
    },
    "id": "6DL1_whpOtLN",
    "outputId": "12732479-bd33-4ed3-cd3e-f37ed21ba364"
   },
   "outputs": [
    {
     "data": {
      "text/plain": [
       "<AxesSubplot:>"
      ]
     },
     "execution_count": 17,
     "metadata": {
      "tags": []
     },
     "output_type": "execute_result"
    },
    {
     "data": {
      "image/png": "[encoded data removed]",
      "text/plain": [
       "<Figure size 720x720 with 1 Axes>"
      ]
     },
     "metadata": {
      "needs_background": "dark",
      "tags": []
     },
     "output_type": "display_data"
    }
   ],
   "source": [
    "df['log_Salário'].hist(bins = 200)"
   ]
  },
  {
   "cell_type": "code",
   "execution_count": null,
   "metadata": {
    "colab": {
     "base_uri": "https://localhost:8080/",
     "height": 617
    },
    "executionInfo": {
     "elapsed": 12666,
     "status": "ok",
     "timestamp": 1605283242796,
     "user": {
      "displayName": "Luis Henrique Batista Arantes",
      "photoUrl": "",
      "userId": "13194031754074181800"
     },
     "user_tz": 180
    },
    "id": "s5q728gvOtLR",
    "outputId": "943d7b96-142d-4eb6-fc68-1d003817a239"
   },
   "outputs": [
    {
     "data": {
      "image/png": "[encoded data removed]",
      "text/plain": [
       "<Figure size 720x720 with 1 Axes>"
      ]
     },
     "metadata": {
      "needs_background": "dark",
      "tags": []
     },
     "output_type": "display_data"
    }
   ],
   "source": [
    "histograma_padronizado = plt.hist(df['log_Salário'], \n",
    "                             bins = 200, \n",
    "                             range = (0, 25000)\n",
    "                                 )\n",
    "plt.xlabel('Log Salário')\n",
    "plt.ylabel(\"Frequência\")\n",
    "plt.rcParams['figure.figsize'] = (10,10)\n",
    "plt.show()"
   ]
  },
  {
   "cell_type": "markdown",
   "metadata": {
    "id": "TN9ic-3ZOtLW"
   },
   "source": [
    "# Normalização"
   ]
  },
  {
   "cell_type": "code",
   "execution_count": null,
   "metadata": {
    "id": "W1WCqq9TOtLX"
   },
   "outputs": [],
   "source": [
    "df['normal_log_salário'] = ( df['log_Salário'] - df['log_Salário'].mean() ) / df['log_Salário'].std()"
   ]
  },
  {
   "cell_type": "code",
   "execution_count": null,
   "metadata": {
    "colab": {
     "base_uri": "https://localhost:8080/",
     "height": 606
    },
    "executionInfo": {
     "elapsed": 13236,
     "status": "ok",
     "timestamp": 1605283243383,
     "user": {
      "displayName": "Luis Henrique Batista Arantes",
      "photoUrl": "",
      "userId": "13194031754074181800"
     },
     "user_tz": 180
    },
    "id": "3OpvQQFhOtLb",
    "outputId": "7fdca929-4efb-4e2a-a7a1-f76d2e70b824"
   },
   "outputs": [
    {
     "data": {
      "image/png": "[encoded data removed]",
      "text/plain": [
       "<Figure size 720x720 with 1 Axes>"
      ]
     },
     "metadata": {
      "needs_background": "dark",
      "tags": []
     },
     "output_type": "display_data"
    }
   ],
   "source": [
    "histograma_normalizado = plt.hist(df['normal_log_salário'], \n",
    "                             bins=100, \n",
    "                             #range = (25000, 50000)\n",
    "                                 )\n",
    "plt.xlabel('Normal Log Salário')\n",
    "plt.ylabel(\"Frequência\")\n",
    "plt.rcParams['figure.figsize'] = (10,10)\n",
    "plt.show()"
   ]
  },
  {
   "cell_type": "markdown",
   "metadata": {
    "id": "c8BB1YhEOtLg"
   },
   "source": [
    "# Refazendo o teste de shapiro, depois de padronizar e normalizar\n",
    "\n",
    "#### <font color='orange'> **Olhar aula de Inferência 2**</font>"
   ]
  },
  {
   "cell_type": "code",
   "execution_count": null,
   "metadata": {
    "colab": {
     "base_uri": "https://localhost:8080/"
    },
    "executionInfo": {
     "elapsed": 13481,
     "status": "ok",
     "timestamp": 1605283243639,
     "user": {
      "displayName": "Luis Henrique Batista Arantes",
      "photoUrl": "",
      "userId": "13194031754074181800"
     },
     "user_tz": 180
    },
    "id": "I9rbic8OOtLh",
    "outputId": "e0f76b5d-fcf2-4d5e-bfd1-b3956019fe09"
   },
   "outputs": [
    {
     "data": {
      "text/plain": [
       "(0.505557656288147, 0.0)"
      ]
     },
     "execution_count": 21,
     "metadata": {
      "tags": []
     },
     "output_type": "execute_result"
    }
   ],
   "source": [
    "resultado_normalização = stats.shapiro(df['normal_log_salário'])\n",
    "resultado_normalização"
   ]
  },
  {
   "cell_type": "markdown",
   "metadata": {
    "id": "VAa_7DwbOtLl"
   },
   "source": [
    "# Verificando a média e o desvio padrão"
   ]
  },
  {
   "cell_type": "code",
   "execution_count": null,
   "metadata": {
    "colab": {
     "base_uri": "https://localhost:8080/"
    },
    "executionInfo": {
     "elapsed": 13472,
     "status": "ok",
     "timestamp": 1605283243640,
     "user": {
      "displayName": "Luis Henrique Batista Arantes",
      "photoUrl": "",
      "userId": "13194031754074181800"
     },
     "user_tz": 180
    },
    "id": "QRqTVH3GOtLm",
    "outputId": "d3d922b9-d311-4d6b-e040-9107a006fabf"
   },
   "outputs": [
    {
     "data": {
      "text/plain": [
       "(3.3424681501685713e-15, 0.9999997784426223)"
      ]
     },
     "execution_count": 22,
     "metadata": {
      "tags": []
     },
     "output_type": "execute_result"
    }
   ],
   "source": [
    "# definindo uma variável para os dados de salários transformados e normalizados\n",
    "x = df['normal_log_salário']\n",
    "# calculando a média\n",
    "mu = np.mean(x)\n",
    "# calculando o desvio-padrão populacional\n",
    "std = np.std(x)\n",
    "#Imprimindo a média e o desvio-padrão\n",
    "mu,std"
   ]
  },
  {
   "cell_type": "markdown",
   "metadata": {
    "id": "GAipZGaqOtLr"
   },
   "source": [
    "# Verificando o Z-Score"
   ]
  },
  {
   "cell_type": "code",
   "execution_count": null,
   "metadata": {
    "colab": {
     "base_uri": "https://localhost:8080/"
    },
    "executionInfo": {
     "elapsed": 13462,
     "status": "ok",
     "timestamp": 1605283243640,
     "user": {
      "displayName": "Luis Henrique Batista Arantes",
      "photoUrl": "",
      "userId": "13194031754074181800"
     },
     "user_tz": 180
    },
    "id": "SWrUpRiROtLs",
    "outputId": "4f274ca6-6f4c-4e8e-f87b-fed63a40086b"
   },
   "outputs": [
    {
     "data": {
      "text/plain": [
       "(-1.95996355029557, 1.9599635502955766)"
      ]
     },
     "execution_count": 23,
     "metadata": {
      "tags": []
     },
     "output_type": "execute_result"
    }
   ],
   "source": [
    "st.norm.interval(alpha=0.95,loc=mu,scale=std)"
   ]
  },
  {
   "cell_type": "markdown",
   "metadata": {
    "id": "COAAVUaSOtLx"
   },
   "source": [
    "### 3. Verificação dos dados da variável **Idade**: verifique os dados da variável Idade, plote uma distribuição e uma dispersão, calcule a correlação com a variável salário mensal e interprete os resultados."
   ]
  },
  {
   "cell_type": "code",
   "execution_count": null,
   "metadata": {
    "colab": {
     "base_uri": "https://localhost:8080/"
    },
    "executionInfo": {
     "elapsed": 13454,
     "status": "ok",
     "timestamp": 1605283243641,
     "user": {
      "displayName": "Luis Henrique Batista Arantes",
      "photoUrl": "",
      "userId": "13194031754074181800"
     },
     "user_tz": 180
    },
    "id": "b4U_vJW-OtLz",
    "outputId": "60c7acbf-a21a-497c-916b-71ae9aac7a2e"
   },
   "outputs": [
    {
     "data": {
      "text/plain": [
       "32.314226374896315"
      ]
     },
     "execution_count": 24,
     "metadata": {
      "tags": []
     },
     "output_type": "execute_result"
    }
   ],
   "source": [
    "df['Idade'].mean()"
   ]
  },
  {
   "cell_type": "code",
   "execution_count": null,
   "metadata": {
    "colab": {
     "base_uri": "https://localhost:8080/"
    },
    "executionInfo": {
     "elapsed": 13444,
     "status": "ok",
     "timestamp": 1605283243641,
     "user": {
      "displayName": "Luis Henrique Batista Arantes",
      "photoUrl": "",
      "userId": "13194031754074181800"
     },
     "user_tz": 180
    },
    "id": "oQsClNSxOtL3",
    "outputId": "11cb007e-d444-4641-d4ee-a8044867e1b4"
   },
   "outputs": [
    {
     "name": "stdout",
     "output_type": "stream",
     "text": [
      "Idade mínima:  10 anos\n",
      "Idade máxima:  103 anos\n",
      "Idade média:  32.314226374896315 anos\n"
     ]
    }
   ],
   "source": [
    "print('Idade mínima: ', df['Idade'].min(), 'anos')\n",
    "print('Idade máxima: ', df['Idade'].max(), 'anos')\n",
    "print('Idade média: ', df['Idade'].mean(), 'anos')"
   ]
  },
  {
   "cell_type": "code",
   "execution_count": null,
   "metadata": {
    "colab": {
     "base_uri": "https://localhost:8080/",
     "height": 621
    },
    "executionInfo": {
     "elapsed": 16254,
     "status": "ok",
     "timestamp": 1605283246462,
     "user": {
      "displayName": "Luis Henrique Batista Arantes",
      "photoUrl": "",
      "userId": "13194031754074181800"
     },
     "user_tz": 180
    },
    "id": "YCixi5ZXOtL8",
    "outputId": "6f03030f-54bd-4045-f72f-5be96870db3d"
   },
   "outputs": [
    {
     "data": {
      "image/png": "[encoded data removed]",
      "text/plain": [
       "<Figure size 720x720 with 1 Axes>"
      ]
     },
     "metadata": {
      "needs_background": "dark",
      "tags": []
     },
     "output_type": "display_data"
    }
   ],
   "source": [
    "plt.scatter(df['Tempo Emprego'], \n",
    "            df['Idade'], \n",
    "            marker = \".\",\n",
    "            alpha = 0.2\n",
    "           )\n",
    "plt.title('Dispersão: Tempo de Emprego x Idade')\n",
    "plt.xlabel('Tempo Emprego (Meses)')\n",
    "plt.ylabel(\"Idade (Anos)\")\n",
    "plt.rcParams['figure.figsize'] = (10,10)\n",
    "plt.show()"
   ]
  },
  {
   "cell_type": "code",
   "execution_count": null,
   "metadata": {
    "colab": {
     "base_uri": "https://localhost:8080/",
     "height": 606
    },
    "executionInfo": {
     "elapsed": 16540,
     "status": "ok",
     "timestamp": 1605283246761,
     "user": {
      "displayName": "Luis Henrique Batista Arantes",
      "photoUrl": "",
      "userId": "13194031754074181800"
     },
     "user_tz": 180
    },
    "id": "WuUr1-N8OtMB",
    "outputId": "c608ec4e-4787-4cce-ad05-c98074fa0332"
   },
   "outputs": [
    {
     "data": {
      "image/png": "[encoded data removed]",
      "text/plain": [
       "<Figure size 720x720 with 1 Axes>"
      ]
     },
     "metadata": {
      "needs_background": "dark",
      "tags": []
     },
     "output_type": "display_data"
    }
   ],
   "source": [
    "histo_idade = plt.hist(df['Idade'], \n",
    "                       bins=200, \n",
    "                       #range = (0,10000000)\n",
    "                      )\n",
    "plt.xlabel('Idade')\n",
    "plt.ylabel(\"Frequência\")\n",
    "plt.rcParams['figure.figsize'] = (10,10)\n",
    "plt.show()"
   ]
  },
  {
   "cell_type": "code",
   "execution_count": null,
   "metadata": {
    "colab": {
     "base_uri": "https://localhost:8080/"
    },
    "executionInfo": {
     "elapsed": 16531,
     "status": "ok",
     "timestamp": 1605283246762,
     "user": {
      "displayName": "Luis Henrique Batista Arantes",
      "photoUrl": "",
      "userId": "13194031754074181800"
     },
     "user_tz": 180
    },
    "id": "4q1iyfs8OtME",
    "outputId": "87f7ff27-e6bc-4a87-82b5-8f00d482cd87"
   },
   "outputs": [
    {
     "data": {
      "text/plain": [
       "(0.9526928663253784, 0.0)"
      ]
     },
     "execution_count": 28,
     "metadata": {
      "tags": []
     },
     "output_type": "execute_result"
    }
   ],
   "source": [
    "shap_test2 = df['Idade'].iloc[0:25000]\n",
    "stats.shapiro(shap_test2)"
   ]
  },
  {
   "cell_type": "markdown",
   "metadata": {
    "id": "4oVZl17HOtMI"
   },
   "source": [
    "Parâmetro da estatística W = 0.952692 => Não está próximo de 1, é Gaussiana\n",
    "P_valor = 0 => Não é maior que 0.05, Não é Gaussiana"
   ]
  },
  {
   "cell_type": "code",
   "execution_count": null,
   "metadata": {
    "colab": {
     "base_uri": "https://localhost:8080/",
     "height": 609
    },
    "executionInfo": {
     "elapsed": 16802,
     "status": "ok",
     "timestamp": 1605283247044,
     "user": {
      "displayName": "Luis Henrique Batista Arantes",
      "photoUrl": "",
      "userId": "13194031754074181800"
     },
     "user_tz": 180
    },
    "id": "t9yFc1o0OtMJ",
    "outputId": "e79e446d-f473-47d1-9f46-4f6eeb16d604"
   },
   "outputs": [
    {
     "data": {
      "text/plain": [
       "<AxesSubplot:>"
      ]
     },
     "execution_count": 29,
     "metadata": {
      "tags": []
     },
     "output_type": "execute_result"
    },
    {
     "data": {
      "image/png": "[encoded data removed]",
      "text/plain": [
       "<Figure size 720x720 with 1 Axes>"
      ]
     },
     "metadata": {
      "needs_background": "dark",
      "tags": []
     },
     "output_type": "display_data"
    }
   ],
   "source": [
    "df['Idade'].hist(bins = 200\n",
    "                )"
   ]
  },
  {
   "cell_type": "markdown",
   "metadata": {
    "id": "5rS9somQOtMN"
   },
   "source": [
    "# Padronização"
   ]
  },
  {
   "cell_type": "code",
   "execution_count": null,
   "metadata": {
    "colab": {
     "base_uri": "https://localhost:8080/",
     "height": 609
    },
    "executionInfo": {
     "elapsed": 17923,
     "status": "ok",
     "timestamp": 1605283248179,
     "user": {
      "displayName": "Luis Henrique Batista Arantes",
      "photoUrl": "",
      "userId": "13194031754074181800"
     },
     "user_tz": 180
    },
    "id": "hDffmNoYOtMO",
    "outputId": "4b76fe25-862b-4170-b0dc-e5194c94b18f"
   },
   "outputs": [
    {
     "data": {
      "text/plain": [
       "<AxesSubplot:>"
      ]
     },
     "execution_count": 30,
     "metadata": {
      "tags": []
     },
     "output_type": "execute_result"
    },
    {
     "data": {
      "image/png": "[encoded data removed]",
      "text/plain": [
       "<Figure size 720x720 with 1 Axes>"
      ]
     },
     "metadata": {
      "needs_background": "dark",
      "tags": []
     },
     "output_type": "display_data"
    }
   ],
   "source": [
    "df['log_Idade'] = np.log(df['Idade'])\n",
    "df['log_Idade'].hist(bins = 200\n",
    "                )"
   ]
  },
  {
   "cell_type": "markdown",
   "metadata": {
    "id": "qfgDngUmOtMS"
   },
   "source": [
    "# Normalização"
   ]
  },
  {
   "cell_type": "code",
   "execution_count": null,
   "metadata": {
    "id": "Guw5NE4VOtMT"
   },
   "outputs": [],
   "source": [
    "df['normal_log_idade'] = ( df['log_Idade'] - df['log_Idade'].mean() ) / df['log_Idade'].std()"
   ]
  },
  {
   "cell_type": "code",
   "execution_count": null,
   "metadata": {
    "colab": {
     "base_uri": "https://localhost:8080/",
     "height": 606
    },
    "executionInfo": {
     "elapsed": 18437,
     "status": "ok",
     "timestamp": 1605283248710,
     "user": {
      "displayName": "Luis Henrique Batista Arantes",
      "photoUrl": "",
      "userId": "13194031754074181800"
     },
     "user_tz": 180
    },
    "id": "gRJKx84HOtMi",
    "outputId": "2fbd5cfa-69f9-4402-c155-aace57eb4571"
   },
   "outputs": [
    {
     "data": {
      "image/png": "[encoded data removed]",
      "text/plain": [
       "<Figure size 720x720 with 1 Axes>"
      ]
     },
     "metadata": {
      "needs_background": "dark",
      "tags": []
     },
     "output_type": "display_data"
    }
   ],
   "source": [
    "histograma_normalizado = plt.hist(df['normal_log_idade'], \n",
    "                             bins=200, \n",
    "                            # range = (0, 25000)\n",
    "                                 )\n",
    "plt.xlabel('Normal Log Idade')\n",
    "plt.ylabel(\"Frequência\")\n",
    "plt.rcParams['figure.figsize'] = (10,10)\n",
    "plt.show()"
   ]
  },
  {
   "cell_type": "markdown",
   "metadata": {
    "id": "gu97JxdMOtMm"
   },
   "source": [
    "# Correlação"
   ]
  },
  {
   "cell_type": "code",
   "execution_count": null,
   "metadata": {
    "colab": {
     "base_uri": "https://localhost:8080/",
     "height": 195
    },
    "executionInfo": {
     "elapsed": 18429,
     "status": "ok",
     "timestamp": 1605283248712,
     "user": {
      "displayName": "Luis Henrique Batista Arantes",
      "photoUrl": "",
      "userId": "13194031754074181800"
     },
     "user_tz": 180
    },
    "id": "cNIMXgKAOtMm",
    "outputId": "3a56b552-25f6-4a01-8ef6-9ed00f975fe9"
   },
   "outputs": [
    {
     "data": {
      "text/html": [
       "<div>\n",
       "<style scoped>\n",
       "    .dataframe tbody tr th:only-of-type {\n",
       "        vertical-align: middle;\n",
       "    }\n",
       "\n",
       "    .dataframe tbody tr th {\n",
       "        vertical-align: top;\n",
       "    }\n",
       "\n",
       "    .dataframe thead th {\n",
       "        text-align: right;\n",
       "    }\n",
       "</style>\n",
       "<table border=\"1\" class=\"dataframe\">\n",
       "  <thead>\n",
       "    <tr style=\"text-align: right;\">\n",
       "      <th></th>\n",
       "      <th>Idade</th>\n",
       "      <th>Salário Mensal</th>\n",
       "    </tr>\n",
       "  </thead>\n",
       "  <tbody>\n",
       "    <tr>\n",
       "      <th>0</th>\n",
       "      <td>24</td>\n",
       "      <td>954.0</td>\n",
       "    </tr>\n",
       "    <tr>\n",
       "      <th>1</th>\n",
       "      <td>25</td>\n",
       "      <td>2500.0</td>\n",
       "    </tr>\n",
       "    <tr>\n",
       "      <th>2</th>\n",
       "      <td>55</td>\n",
       "      <td>0.0</td>\n",
       "    </tr>\n",
       "    <tr>\n",
       "      <th>3</th>\n",
       "      <td>52</td>\n",
       "      <td>0.0</td>\n",
       "    </tr>\n",
       "    <tr>\n",
       "      <th>4</th>\n",
       "      <td>32</td>\n",
       "      <td>0.0</td>\n",
       "    </tr>\n",
       "  </tbody>\n",
       "</table>\n",
       "</div>"
      ],
      "text/plain": [
       "   Idade  Salário Mensal\n",
       "0     24           954.0\n",
       "1     25          2500.0\n",
       "2     55             0.0\n",
       "3     52             0.0\n",
       "4     32             0.0"
      ]
     },
     "execution_count": 33,
     "metadata": {
      "tags": []
     },
     "output_type": "execute_result"
    }
   ],
   "source": [
    "df_ex3 = df[['Idade','Salário Mensal']]\n",
    "df_ex3.head()"
   ]
  },
  {
   "cell_type": "code",
   "execution_count": null,
   "metadata": {
    "colab": {
     "base_uri": "https://localhost:8080/"
    },
    "executionInfo": {
     "elapsed": 19306,
     "status": "ok",
     "timestamp": 1605283249598,
     "user": {
      "displayName": "Luis Henrique Batista Arantes",
      "photoUrl": "",
      "userId": "13194031754074181800"
     },
     "user_tz": 180
    },
    "id": "TJcJiITsOtMp",
    "outputId": "58cad33e-ef6a-43da-a03a-46e60afe88ca"
   },
   "outputs": [
    {
     "data": {
      "text/plain": [
       "SpearmanrResult(correlation=0.29049665848735234, pvalue=0.0)"
      ]
     },
     "execution_count": 34,
     "metadata": {
      "tags": []
     },
     "output_type": "execute_result"
    }
   ],
   "source": [
    "df['Idade'].corr(df['Salário Mensal']) \n",
    "stats.spearmanr(df['Idade'], df['Salário Mensal'])"
   ]
  },
  {
   "cell_type": "markdown",
   "metadata": {
    "id": "6atE5UZ5OtMs"
   },
   "source": [
    "#### <font color='orange'> corr menor que 0.3, desprezivel... Vamos plotar uma dispersão para tirar mais conclusões</font>"
   ]
  },
  {
   "cell_type": "code",
   "execution_count": null,
   "metadata": {
    "colab": {
     "base_uri": "https://localhost:8080/",
     "height": 621
    },
    "executionInfo": {
     "elapsed": 22020,
     "status": "ok",
     "timestamp": 1605283252323,
     "user": {
      "displayName": "Luis Henrique Batista Arantes",
      "photoUrl": "",
      "userId": "13194031754074181800"
     },
     "user_tz": 180
    },
    "id": "bzKxdJxLOtMs",
    "outputId": "e453533d-c0f2-4843-d676-4de9919cd945"
   },
   "outputs": [
    {
     "data": {
      "image/png": "[encoded data removed]",
      "text/plain": [
       "<Figure size 720x720 with 1 Axes>"
      ]
     },
     "metadata": {
      "needs_background": "dark",
      "tags": []
     },
     "output_type": "display_data"
    }
   ],
   "source": [
    "plt.scatter(df['Idade'], \n",
    "            df['Salário Mensal'], \n",
    "            marker = \".\",\n",
    "            alpha = 0.2\n",
    "           )\n",
    "plt.title('Dispersão: Idade x Salário Mensal')\n",
    "plt.xlabel('Idade (Anos)')\n",
    "plt.ylabel(\"Salário Mensal\")\n",
    "plt.rcParams['figure.figsize'] = (10,10)\n",
    "plt.show()"
   ]
  },
  {
   "cell_type": "code",
   "execution_count": null,
   "metadata": {
    "id": "rAGMqTaaOtMv"
   },
   "outputs": [],
   "source": [
    "# As duas váriaveis estão bem distribuidas entre si, mostrando que não tem muita correlação...\n",
    "# Parece que a unica coisa que é possível analisar nesse gráfico acima é a linha de salário de 130k reais, que são pessoas que trabalham com Buffet (Bem estranho)"
   ]
  },
  {
   "cell_type": "markdown",
   "metadata": {
    "id": "zLR14AnQOtMz"
   },
   "source": [
    "### 4. Verificação dos dados da variável Grau de Instrução: verifique os dados da variável Grau de instrução, plote uma distribuição e uma dispersão, calcule a correlação com a variável salário mensal e interprete os resultados"
   ]
  },
  {
   "cell_type": "code",
   "execution_count": null,
   "metadata": {
    "colab": {
     "base_uri": "https://localhost:8080/",
     "height": 402
    },
    "executionInfo": {
     "elapsed": 22008,
     "status": "ok",
     "timestamp": 1605283252326,
     "user": {
      "displayName": "Luis Henrique Batista Arantes",
      "photoUrl": "",
      "userId": "13194031754074181800"
     },
     "user_tz": 180
    },
    "id": "oDFqQY5FOtMz",
    "outputId": "3632dfc3-16b1-4e6b-ce45-ec28d38b4ed0"
   },
   "outputs": [
    {
     "data": {
      "text/html": [
       "<div>\n",
       "<style scoped>\n",
       "    .dataframe tbody tr th:only-of-type {\n",
       "        vertical-align: middle;\n",
       "    }\n",
       "\n",
       "    .dataframe tbody tr th {\n",
       "        vertical-align: top;\n",
       "    }\n",
       "\n",
       "    .dataframe thead th {\n",
       "        text-align: right;\n",
       "    }\n",
       "</style>\n",
       "<table border=\"1\" class=\"dataframe\">\n",
       "  <thead>\n",
       "    <tr style=\"text-align: right;\">\n",
       "      <th></th>\n",
       "      <th>Categoria</th>\n",
       "      <th>Valores na fonte</th>\n",
       "    </tr>\n",
       "  </thead>\n",
       "  <tbody>\n",
       "    <tr>\n",
       "      <th>0</th>\n",
       "      <td>Analfabeto</td>\n",
       "      <td>1</td>\n",
       "    </tr>\n",
       "    <tr>\n",
       "      <th>1</th>\n",
       "      <td>Até 5ª Incompleto</td>\n",
       "      <td>2</td>\n",
       "    </tr>\n",
       "    <tr>\n",
       "      <th>2</th>\n",
       "      <td>5ª Completo Fundamental</td>\n",
       "      <td>3</td>\n",
       "    </tr>\n",
       "    <tr>\n",
       "      <th>3</th>\n",
       "      <td>6ª a 9ª Fundamental</td>\n",
       "      <td>4</td>\n",
       "    </tr>\n",
       "    <tr>\n",
       "      <th>4</th>\n",
       "      <td>Fundamental Completo</td>\n",
       "      <td>5</td>\n",
       "    </tr>\n",
       "    <tr>\n",
       "      <th>5</th>\n",
       "      <td>Médio Incompleto</td>\n",
       "      <td>6</td>\n",
       "    </tr>\n",
       "    <tr>\n",
       "      <th>6</th>\n",
       "      <td>Médio Completo</td>\n",
       "      <td>7</td>\n",
       "    </tr>\n",
       "    <tr>\n",
       "      <th>7</th>\n",
       "      <td>Superior Incompleto</td>\n",
       "      <td>8</td>\n",
       "    </tr>\n",
       "    <tr>\n",
       "      <th>8</th>\n",
       "      <td>Superior Completo</td>\n",
       "      <td>9</td>\n",
       "    </tr>\n",
       "    <tr>\n",
       "      <th>9</th>\n",
       "      <td>MESTRADO</td>\n",
       "      <td>10</td>\n",
       "    </tr>\n",
       "    <tr>\n",
       "      <th>10</th>\n",
       "      <td>DOUTORADO</td>\n",
       "      <td>11</td>\n",
       "    </tr>\n",
       "    <tr>\n",
       "      <th>11</th>\n",
       "      <td>IGNORADO</td>\n",
       "      <td>-1</td>\n",
       "    </tr>\n",
       "  </tbody>\n",
       "</table>\n",
       "</div>"
      ],
      "text/plain": [
       "                  Categoria  Valores na fonte\n",
       "0                Analfabeto                 1\n",
       "1         Até 5ª Incompleto                 2\n",
       "2   5ª Completo Fundamental                 3\n",
       "3       6ª a 9ª Fundamental                 4\n",
       "4      Fundamental Completo                 5\n",
       "5          Médio Incompleto                 6\n",
       "6            Médio Completo                 7\n",
       "7       Superior Incompleto                 8\n",
       "8         Superior Completo                 9\n",
       "9                  MESTRADO                10\n",
       "10                DOUTORADO                11\n",
       "11                 IGNORADO                -1"
      ]
     },
     "execution_count": 37,
     "metadata": {
      "tags": []
     },
     "output_type": "execute_result"
    }
   ],
   "source": [
    "Grau_Instr_Bibl = {'Categoria': ['Analfabeto', 'Até 5ª Incompleto', '5ª Completo Fundamental', '6ª a 9ª Fundamental', 'Fundamental Completo', 'Médio Incompleto', 'Médio Completo', 'Superior Incompleto', 'Superior Completo', 'MESTRADO', 'DOUTORADO', 'IGNORADO'],\n",
    "                   'Valores na fonte': [1,2,3,4,5,6,7,8,9,10,11,-1]\n",
    "                  }\n",
    "Grau_Instr_Bibli = pd.DataFrame(data=Grau_Instr_Bibl)\n",
    "Grau_Instr_Bibli"
   ]
  },
  {
   "cell_type": "code",
   "execution_count": null,
   "metadata": {
    "colab": {
     "base_uri": "https://localhost:8080/"
    },
    "executionInfo": {
     "elapsed": 22002,
     "status": "ok",
     "timestamp": 1605283252328,
     "user": {
      "displayName": "Luis Henrique Batista Arantes",
      "photoUrl": "",
      "userId": "13194031754074181800"
     },
     "user_tz": 180
    },
    "id": "Cw-ZteW3RT5_",
    "outputId": "4c92b084-62ab-47b5-83f8-1da979ad39c8"
   },
   "outputs": [
    {
     "data": {
      "text/plain": [
       "{1: 'Analfabeto',\n",
       " 2: 'Até 5ª Incompleto',\n",
       " 3: '5ª Completo Fundamental',\n",
       " 4: '6ª a 9ª Fundamental',\n",
       " 5: 'Fundamental Completo',\n",
       " 6: 'Médio Incompleto',\n",
       " 7: 'Médio Completo',\n",
       " 8: 'Superior Incompleto',\n",
       " 9: 'Superior Completo',\n",
       " 10: 'MESTRADO',\n",
       " 11: 'DOUTORADO',\n",
       " -1: 'IGNORADO'}"
      ]
     },
     "execution_count": 38,
     "metadata": {
      "tags": []
     },
     "output_type": "execute_result"
    }
   ],
   "source": [
    "s = {1: 'Analfabeto', 2: 'Até 5ª Incompleto', 3: '5ª Completo Fundamental', 4: '6ª a 9ª Fundamental', 5: 'Fundamental Completo', 6: 'Médio Incompleto', 7: 'Médio Completo', 8: 'Superior Incompleto', 9: 'Superior Completo', 10: 'MESTRADO', 11: 'DOUTORADO', -1: 'IGNORADO'}\n",
    "s"
   ]
  },
  {
   "cell_type": "code",
   "execution_count": null,
   "metadata": {
    "id": "Rsq98pQC8fAO",
    "outputId": "3708f503-fa12-4ae8-a66d-121fe13bc0c8"
   },
   "outputs": [
    {
     "data": {
      "text/html": [
       "<div>\n",
       "<style scoped>\n",
       "    .dataframe tbody tr th:only-of-type {\n",
       "        vertical-align: middle;\n",
       "    }\n",
       "\n",
       "    .dataframe tbody tr th {\n",
       "        vertical-align: top;\n",
       "    }\n",
       "\n",
       "    .dataframe thead th {\n",
       "        text-align: right;\n",
       "    }\n",
       "</style>\n",
       "<table border=\"1\" class=\"dataframe\">\n",
       "  <thead>\n",
       "    <tr style=\"text-align: right;\">\n",
       "      <th></th>\n",
       "      <th>Admitidos/Desligados</th>\n",
       "      <th>Competência Declarada</th>\n",
       "      <th>Município</th>\n",
       "      <th>Ano Declarado</th>\n",
       "      <th>Grau Instrução</th>\n",
       "      <th>Idade</th>\n",
       "      <th>Raça Cor</th>\n",
       "      <th>Salário Mensal</th>\n",
       "      <th>Sexo</th>\n",
       "      <th>Tempo Emprego</th>\n",
       "      <th>UF</th>\n",
       "      <th>log_Salário</th>\n",
       "      <th>normal_log_salário</th>\n",
       "      <th>log_Idade</th>\n",
       "      <th>normal_log_idade</th>\n",
       "      <th>NovaCol</th>\n",
       "    </tr>\n",
       "  </thead>\n",
       "  <tbody>\n",
       "    <tr>\n",
       "      <th>0</th>\n",
       "      <td>1</td>\n",
       "      <td>201812</td>\n",
       "      <td>500215</td>\n",
       "      <td>2018</td>\n",
       "      <td>6</td>\n",
       "      <td>24</td>\n",
       "      <td>8</td>\n",
       "      <td>954.0</td>\n",
       "      <td>1</td>\n",
       "      <td>0.0</td>\n",
       "      <td>50</td>\n",
       "      <td>6.861711</td>\n",
       "      <td>-0.338373</td>\n",
       "      <td>3.178054</td>\n",
       "      <td>-0.734573</td>\n",
       "      <td>Médio Incompleto</td>\n",
       "    </tr>\n",
       "    <tr>\n",
       "      <th>1</th>\n",
       "      <td>1</td>\n",
       "      <td>201812</td>\n",
       "      <td>500710</td>\n",
       "      <td>2018</td>\n",
       "      <td>8</td>\n",
       "      <td>25</td>\n",
       "      <td>2</td>\n",
       "      <td>2500.0</td>\n",
       "      <td>1</td>\n",
       "      <td>0.0</td>\n",
       "      <td>50</td>\n",
       "      <td>7.824446</td>\n",
       "      <td>0.751796</td>\n",
       "      <td>3.218876</td>\n",
       "      <td>-0.610896</td>\n",
       "      <td>Superior Incompleto</td>\n",
       "    </tr>\n",
       "    <tr>\n",
       "      <th>2</th>\n",
       "      <td>1</td>\n",
       "      <td>201812</td>\n",
       "      <td>500460</td>\n",
       "      <td>2018</td>\n",
       "      <td>2</td>\n",
       "      <td>55</td>\n",
       "      <td>8</td>\n",
       "      <td>0.0</td>\n",
       "      <td>1</td>\n",
       "      <td>0.0</td>\n",
       "      <td>50</td>\n",
       "      <td>0.000000</td>\n",
       "      <td>-8.108356</td>\n",
       "      <td>4.007333</td>\n",
       "      <td>1.777875</td>\n",
       "      <td>Até 5ª Incompleto</td>\n",
       "    </tr>\n",
       "    <tr>\n",
       "      <th>3</th>\n",
       "      <td>1</td>\n",
       "      <td>201812</td>\n",
       "      <td>500460</td>\n",
       "      <td>2018</td>\n",
       "      <td>2</td>\n",
       "      <td>52</td>\n",
       "      <td>8</td>\n",
       "      <td>0.0</td>\n",
       "      <td>1</td>\n",
       "      <td>0.0</td>\n",
       "      <td>50</td>\n",
       "      <td>0.000000</td>\n",
       "      <td>-8.108356</td>\n",
       "      <td>3.951244</td>\n",
       "      <td>1.607942</td>\n",
       "      <td>Até 5ª Incompleto</td>\n",
       "    </tr>\n",
       "    <tr>\n",
       "      <th>4</th>\n",
       "      <td>1</td>\n",
       "      <td>201812</td>\n",
       "      <td>500460</td>\n",
       "      <td>2018</td>\n",
       "      <td>2</td>\n",
       "      <td>32</td>\n",
       "      <td>8</td>\n",
       "      <td>0.0</td>\n",
       "      <td>1</td>\n",
       "      <td>0.0</td>\n",
       "      <td>50</td>\n",
       "      <td>0.000000</td>\n",
       "      <td>-8.108356</td>\n",
       "      <td>3.465736</td>\n",
       "      <td>0.137010</td>\n",
       "      <td>Até 5ª Incompleto</td>\n",
       "    </tr>\n",
       "    <tr>\n",
       "      <th>...</th>\n",
       "      <td>...</td>\n",
       "      <td>...</td>\n",
       "      <td>...</td>\n",
       "      <td>...</td>\n",
       "      <td>...</td>\n",
       "      <td>...</td>\n",
       "      <td>...</td>\n",
       "      <td>...</td>\n",
       "      <td>...</td>\n",
       "      <td>...</td>\n",
       "      <td>...</td>\n",
       "      <td>...</td>\n",
       "      <td>...</td>\n",
       "      <td>...</td>\n",
       "      <td>...</td>\n",
       "      <td>...</td>\n",
       "    </tr>\n",
       "    <tr>\n",
       "      <th>2256747</th>\n",
       "      <td>2</td>\n",
       "      <td>201812</td>\n",
       "      <td>221100</td>\n",
       "      <td>2018</td>\n",
       "      <td>9</td>\n",
       "      <td>59</td>\n",
       "      <td>8</td>\n",
       "      <td>5510.0</td>\n",
       "      <td>2</td>\n",
       "      <td>447.0</td>\n",
       "      <td>22</td>\n",
       "      <td>8.614501</td>\n",
       "      <td>1.646430</td>\n",
       "      <td>4.077537</td>\n",
       "      <td>1.990571</td>\n",
       "      <td>Superior Completo</td>\n",
       "    </tr>\n",
       "    <tr>\n",
       "      <th>2256748</th>\n",
       "      <td>2</td>\n",
       "      <td>201812</td>\n",
       "      <td>221100</td>\n",
       "      <td>2018</td>\n",
       "      <td>7</td>\n",
       "      <td>55</td>\n",
       "      <td>9</td>\n",
       "      <td>954.0</td>\n",
       "      <td>2</td>\n",
       "      <td>215.0</td>\n",
       "      <td>22</td>\n",
       "      <td>6.861711</td>\n",
       "      <td>-0.338373</td>\n",
       "      <td>4.007333</td>\n",
       "      <td>1.777875</td>\n",
       "      <td>Médio Completo</td>\n",
       "    </tr>\n",
       "    <tr>\n",
       "      <th>2256749</th>\n",
       "      <td>2</td>\n",
       "      <td>201812</td>\n",
       "      <td>221100</td>\n",
       "      <td>2018</td>\n",
       "      <td>7</td>\n",
       "      <td>61</td>\n",
       "      <td>8</td>\n",
       "      <td>1000.0</td>\n",
       "      <td>2</td>\n",
       "      <td>202.0</td>\n",
       "      <td>22</td>\n",
       "      <td>6.908755</td>\n",
       "      <td>-0.285103</td>\n",
       "      <td>4.110874</td>\n",
       "      <td>2.091570</td>\n",
       "      <td>Médio Completo</td>\n",
       "    </tr>\n",
       "    <tr>\n",
       "      <th>2256750</th>\n",
       "      <td>2</td>\n",
       "      <td>201812</td>\n",
       "      <td>221100</td>\n",
       "      <td>2018</td>\n",
       "      <td>8</td>\n",
       "      <td>22</td>\n",
       "      <td>2</td>\n",
       "      <td>1365.0</td>\n",
       "      <td>1</td>\n",
       "      <td>16.0</td>\n",
       "      <td>22</td>\n",
       "      <td>7.219642</td>\n",
       "      <td>0.066936</td>\n",
       "      <td>3.091042</td>\n",
       "      <td>-0.998190</td>\n",
       "      <td>Superior Incompleto</td>\n",
       "    </tr>\n",
       "    <tr>\n",
       "      <th>2256751</th>\n",
       "      <td>2</td>\n",
       "      <td>201812</td>\n",
       "      <td>220770</td>\n",
       "      <td>2018</td>\n",
       "      <td>9</td>\n",
       "      <td>27</td>\n",
       "      <td>2</td>\n",
       "      <td>996.0</td>\n",
       "      <td>2</td>\n",
       "      <td>69.0</td>\n",
       "      <td>22</td>\n",
       "      <td>6.904751</td>\n",
       "      <td>-0.289637</td>\n",
       "      <td>3.295837</td>\n",
       "      <td>-0.377729</td>\n",
       "      <td>Superior Completo</td>\n",
       "    </tr>\n",
       "  </tbody>\n",
       "</table>\n",
       "<p>2256752 rows × 16 columns</p>\n",
       "</div>"
      ],
      "text/plain": [
       "         Admitidos/Desligados  Competência Declarada  Município  \\\n",
       "0                           1                 201812     500215   \n",
       "1                           1                 201812     500710   \n",
       "2                           1                 201812     500460   \n",
       "3                           1                 201812     500460   \n",
       "4                           1                 201812     500460   \n",
       "...                       ...                    ...        ...   \n",
       "2256747                     2                 201812     221100   \n",
       "2256748                     2                 201812     221100   \n",
       "2256749                     2                 201812     221100   \n",
       "2256750                     2                 201812     221100   \n",
       "2256751                     2                 201812     220770   \n",
       "\n",
       "         Ano Declarado  Grau Instrução  Idade  Raça Cor  Salário Mensal  Sexo  \\\n",
       "0                 2018               6     24         8           954.0     1   \n",
       "1                 2018               8     25         2          2500.0     1   \n",
       "2                 2018               2     55         8             0.0     1   \n",
       "3                 2018               2     52         8             0.0     1   \n",
       "4                 2018               2     32         8             0.0     1   \n",
       "...                ...             ...    ...       ...             ...   ...   \n",
       "2256747           2018               9     59         8          5510.0     2   \n",
       "2256748           2018               7     55         9           954.0     2   \n",
       "2256749           2018               7     61         8          1000.0     2   \n",
       "2256750           2018               8     22         2          1365.0     1   \n",
       "2256751           2018               9     27         2           996.0     2   \n",
       "\n",
       "         Tempo Emprego  UF  log_Salário  normal_log_salário  log_Idade  \\\n",
       "0                  0.0  50     6.861711           -0.338373   3.178054   \n",
       "1                  0.0  50     7.824446            0.751796   3.218876   \n",
       "2                  0.0  50     0.000000           -8.108356   4.007333   \n",
       "3                  0.0  50     0.000000           -8.108356   3.951244   \n",
       "4                  0.0  50     0.000000           -8.108356   3.465736   \n",
       "...                ...  ..          ...                 ...        ...   \n",
       "2256747          447.0  22     8.614501            1.646430   4.077537   \n",
       "2256748          215.0  22     6.861711           -0.338373   4.007333   \n",
       "2256749          202.0  22     6.908755           -0.285103   4.110874   \n",
       "2256750           16.0  22     7.219642            0.066936   3.091042   \n",
       "2256751           69.0  22     6.904751           -0.289637   3.295837   \n",
       "\n",
       "         normal_log_idade              NovaCol  \n",
       "0               -0.734573     Médio Incompleto  \n",
       "1               -0.610896  Superior Incompleto  \n",
       "2                1.777875    Até 5ª Incompleto  \n",
       "3                1.607942    Até 5ª Incompleto  \n",
       "4                0.137010    Até 5ª Incompleto  \n",
       "...                   ...                  ...  \n",
       "2256747          1.990571    Superior Completo  \n",
       "2256748          1.777875       Médio Completo  \n",
       "2256749          2.091570       Médio Completo  \n",
       "2256750         -0.998190  Superior Incompleto  \n",
       "2256751         -0.377729    Superior Completo  \n",
       "\n",
       "[2256752 rows x 16 columns]"
      ]
     },
     "execution_count": 39,
     "metadata": {
      "tags": []
     },
     "output_type": "execute_result"
    }
   ],
   "source": [
    "df['NovaCol'] = df['Grau Instrução'].map(s)\n",
    "df"
   ]
  },
  {
   "cell_type": "code",
   "execution_count": null,
   "metadata": {
    "executionInfo": {
     "elapsed": 21978,
     "status": "aborted",
     "timestamp": 1605283252343,
     "user": {
      "displayName": "Luis Henrique Batista Arantes",
      "photoUrl": "",
      "userId": "13194031754074181800"
     },
     "user_tz": 180
    },
    "id": "WmdmTxvcaLfh",
    "outputId": "06b292aa-a4bb-46f2-f76a-4b8a52775f22"
   },
   "outputs": [
    {
     "data": {
      "image/png": "[encoded data removed]",
      "text/plain": [
       "<Figure size 720x720 with 1 Axes>"
      ]
     },
     "metadata": {
      "needs_background": "dark",
      "tags": []
     },
     "output_type": "display_data"
    }
   ],
   "source": [
    "plt.scatter(df['NovaCol'], \n",
    "            df['Salário Mensal'], \n",
    "            marker = \".\",\n",
    "            alpha = 0.2\n",
    "           )\n",
    "plt.title('Dispersão: Grau Instrução x Salário Mensal')\n",
    "plt.xlabel('Grau de Instrução')\n",
    "plt.ylabel(\"Salário Mensal\")\n",
    "plt.rcParams['figure.figsize'] = (100,10)\n",
    "plt.show()"
   ]
  },
  {
   "cell_type": "code",
   "execution_count": null,
   "metadata": {
    "executionInfo": {
     "elapsed": 21969,
     "status": "aborted",
     "timestamp": 1605283252344,
     "user": {
      "displayName": "Luis Henrique Batista Arantes",
      "photoUrl": "",
      "userId": "13194031754074181800"
     },
     "user_tz": 180
    },
    "id": "QqKQyL8KOtM5",
    "outputId": "bdcbed85-2fc9-45a3-d258-fd847129a9a5"
   },
   "outputs": [
    {
     "data": {
      "text/plain": [
       "0.18470180695812546"
      ]
     },
     "execution_count": 41,
     "metadata": {
      "tags": []
     },
     "output_type": "execute_result"
    }
   ],
   "source": [
    "#Correlação\n",
    "df['Salário Mensal'].corr(df['Grau Instrução'])\n",
    "# Essa variável não tem uma alta correlação,"
   ]
  },
  {
   "cell_type": "markdown",
   "metadata": {
    "id": "6SYwthDJ8fAP"
   },
   "source": [
    "### 5. Verificação dos dados da variável **Sexo**: verifique os dados da variável Sexo, plote uma distribuição e uma dispersão, calcule a correlação com a variável salário mensal e interprete os resultados. Depois disso, faça uma inferência estatística pra verificar se os homens ganham mais que as mulheres.\n"
   ]
  },
  {
   "cell_type": "code",
   "execution_count": null,
   "metadata": {
    "id": "CbUg7emM8fAP",
    "outputId": "0dbaf6e5-38de-4be7-af6a-f196de25ed58"
   },
   "outputs": [
    {
     "data": {
      "image/png": "[encoded data removed]",
      "text/plain": [
       "<Figure size 7200x720 with 1 Axes>"
      ]
     },
     "metadata": {
      "needs_background": "dark",
      "tags": []
     },
     "output_type": "display_data"
    }
   ],
   "source": [
    "plt.scatter(df['Sexo'], \n",
    "            df['Salário Mensal'], \n",
    "            marker = \".\",\n",
    "            alpha = 0.2\n",
    "           )\n",
    "plt.title('Dispersão: Salário Mensal x Tempo de Emprego')\n",
    "plt.xlabel('Sexo (Masc \"01\"/Feminino \"02\")')\n",
    "plt.ylabel(\"Salário Mensal\")\n",
    "plt.rcParams['figure.figsize'] = (10,10)\n",
    "plt.show()"
   ]
  },
  {
   "cell_type": "code",
   "execution_count": null,
   "metadata": {
    "id": "ZTZN8zua8fAP",
    "outputId": "9be32f3c-5ccc-4241-cb20-2be2b2fe711b"
   },
   "outputs": [
    {
     "data": {
      "image/png": "[encoded data removed]",
      "text/plain": [
       "<Figure size 720x720 with 1 Axes>"
      ]
     },
     "metadata": {
      "needs_background": "dark",
      "tags": []
     },
     "output_type": "display_data"
    }
   ],
   "source": [
    "histo_sexo = plt.hist(df['Sexo'], \n",
    "                       bins=200, \n",
    "                       #range = (0,10000000)\n",
    "                      )\n",
    "plt.xlabel('Idade')\n",
    "plt.ylabel(\"Frequência\")\n",
    "plt.rcParams['figure.figsize'] = (10,10)\n",
    "plt.show()"
   ]
  },
  {
   "cell_type": "code",
   "execution_count": null,
   "metadata": {
    "id": "Z5h49NK08fAP",
    "outputId": "f2679e6f-247a-4352-8f86-3f05d4385f85"
   },
   "outputs": [
    {
     "data": {
      "text/plain": [
       "-0.04239430463953994"
      ]
     },
     "execution_count": 44,
     "metadata": {
      "tags": []
     },
     "output_type": "execute_result"
    }
   ],
   "source": [
    "#Correlação\n",
    "df['Salário Mensal'].corr(df['Sexo'])"
   ]
  },
  {
   "cell_type": "code",
   "execution_count": null,
   "metadata": {
    "id": "SMCzUo788fAP",
    "outputId": "fb86396d-2adf-41c6-b510-b2fe9ac2b386"
   },
   "outputs": [
    {
     "data": {
      "text/plain": [
       "dtype('int64')"
      ]
     },
     "execution_count": 45,
     "metadata": {
      "tags": []
     },
     "output_type": "execute_result"
    }
   ],
   "source": [
    "df['Sexo'].dtype"
   ]
  },
  {
   "cell_type": "code",
   "execution_count": null,
   "metadata": {
    "id": "CTyY2Uwd8fAP",
    "outputId": "50186b79-39f3-4b6b-c296-e2dd73ea3ba6"
   },
   "outputs": [
    {
     "data": {
      "text/html": [
       "<div>\n",
       "<style scoped>\n",
       "    .dataframe tbody tr th:only-of-type {\n",
       "        vertical-align: middle;\n",
       "    }\n",
       "\n",
       "    .dataframe tbody tr th {\n",
       "        vertical-align: top;\n",
       "    }\n",
       "\n",
       "    .dataframe thead th {\n",
       "        text-align: right;\n",
       "    }\n",
       "</style>\n",
       "<table border=\"1\" class=\"dataframe\">\n",
       "  <thead>\n",
       "    <tr style=\"text-align: right;\">\n",
       "      <th></th>\n",
       "      <th>Sexo</th>\n",
       "      <th>Salário Mensal</th>\n",
       "    </tr>\n",
       "    <tr>\n",
       "      <th>Sexo</th>\n",
       "      <th></th>\n",
       "      <th></th>\n",
       "    </tr>\n",
       "  </thead>\n",
       "  <tbody>\n",
       "    <tr>\n",
       "      <th>1</th>\n",
       "      <td>1</td>\n",
       "      <td>1701.940527</td>\n",
       "    </tr>\n",
       "    <tr>\n",
       "      <th>2</th>\n",
       "      <td>2</td>\n",
       "      <td>1521.385129</td>\n",
       "    </tr>\n",
       "  </tbody>\n",
       "</table>\n",
       "</div>"
      ],
      "text/plain": [
       "      Sexo  Salário Mensal\n",
       "Sexo                      \n",
       "1        1     1701.940527\n",
       "2        2     1521.385129"
      ]
     },
     "execution_count": 46,
     "metadata": {
      "tags": []
     },
     "output_type": "execute_result"
    }
   ],
   "source": [
    "grouped = df[['Sexo', 'Salário Mensal']].groupby(df['Sexo'])\n",
    "media = grouped.mean()\n",
    "media"
   ]
  },
  {
   "cell_type": "code",
   "execution_count": null,
   "metadata": {
    "id": "-ChJT7qe8fAQ",
    "outputId": "2d07b259-f298-4928-9601-5d24b27bf45d"
   },
   "outputs": [
    {
     "data": {
      "text/plain": [
       "dtype('int64')"
      ]
     },
     "execution_count": 47,
     "metadata": {
      "tags": []
     },
     "output_type": "execute_result"
    }
   ],
   "source": [
    "media['Sexo'].dtype"
   ]
  },
  {
   "cell_type": "code",
   "execution_count": null,
   "metadata": {
    "id": "W-fhYrbd8fAQ",
    "outputId": "eeb518c0-fddb-4241-c7b3-cc8da5283711"
   },
   "outputs": [
    {
     "data": {
      "text/plain": [
       "{1: 'Masculino', 2: 'Feminino'}"
      ]
     },
     "execution_count": 48,
     "metadata": {
      "tags": []
     },
     "output_type": "execute_result"
    }
   ],
   "source": [
    "j = {1: 'Masculino', 2:'Feminino'}\n",
    "j"
   ]
  },
  {
   "cell_type": "code",
   "execution_count": null,
   "metadata": {
    "id": "lb4yGNgx8fAQ",
    "outputId": "2f577d88-5feb-4004-a0ad-00c7d88c694b"
   },
   "outputs": [
    {
     "data": {
      "text/html": [
       "<div>\n",
       "<style scoped>\n",
       "    .dataframe tbody tr th:only-of-type {\n",
       "        vertical-align: middle;\n",
       "    }\n",
       "\n",
       "    .dataframe tbody tr th {\n",
       "        vertical-align: top;\n",
       "    }\n",
       "\n",
       "    .dataframe thead th {\n",
       "        text-align: right;\n",
       "    }\n",
       "</style>\n",
       "<table border=\"1\" class=\"dataframe\">\n",
       "  <thead>\n",
       "    <tr style=\"text-align: right;\">\n",
       "      <th></th>\n",
       "      <th>Sexo</th>\n",
       "      <th>Salário Mensal</th>\n",
       "    </tr>\n",
       "    <tr>\n",
       "      <th>Genero</th>\n",
       "      <th></th>\n",
       "      <th></th>\n",
       "    </tr>\n",
       "  </thead>\n",
       "  <tbody>\n",
       "    <tr>\n",
       "      <th>Masculino</th>\n",
       "      <td>1</td>\n",
       "      <td>1701.940527</td>\n",
       "    </tr>\n",
       "    <tr>\n",
       "      <th>Feminino</th>\n",
       "      <td>2</td>\n",
       "      <td>1521.385129</td>\n",
       "    </tr>\n",
       "  </tbody>\n",
       "</table>\n",
       "</div>"
      ],
      "text/plain": [
       "           Sexo  Salário Mensal\n",
       "Genero                         \n",
       "Masculino     1     1701.940527\n",
       "Feminino      2     1521.385129"
      ]
     },
     "execution_count": 49,
     "metadata": {
      "tags": []
     },
     "output_type": "execute_result"
    }
   ],
   "source": [
    "media['Genero'] = media['Sexo'].map(j)\n",
    "media.drop(columns = 'Sexo')\n",
    "media.set_index('Genero')"
   ]
  },
  {
   "cell_type": "code",
   "execution_count": null,
   "metadata": {
    "id": "N2OwMFgC8fAQ",
    "outputId": "a1d81366-7443-47f6-cad5-079e54b2e78a"
   },
   "outputs": [
    {
     "name": "stdout",
     "output_type": "stream",
     "text": [
      "Soma dos salários dos homens 2251883464.0 reais\n",
      "Soma dos salários dos mulheres 1420403191.0 reais\n"
     ]
    }
   ],
   "source": [
    "df_homens = df.loc[df['Sexo'] == 1]\n",
    "df_mulheres = df.loc[df['Sexo'] == 2]\n",
    "print('Soma dos salários dos homens', df_homens['Salário Mensal'].sum(), \"reais\")\n",
    "print('Soma dos salários dos mulheres', df_mulheres['Salário Mensal'].sum(), \"reais\")"
   ]
  },
  {
   "cell_type": "code",
   "execution_count": null,
   "metadata": {
    "id": "6HIFM1dE8fAQ"
   },
   "outputs": [],
   "source": [
    "media_M = media['Salário Mensal'][2]\n",
    "media_H = media['Salário Mensal'][1]"
   ]
  },
  {
   "cell_type": "code",
   "execution_count": null,
   "metadata": {
    "id": "3Z4pwhAA8fAQ",
    "outputId": "fa098815-cc52-40f3-fd32-4280884e0838"
   },
   "outputs": [
    {
     "data": {
      "text/html": [
       "<div>\n",
       "<style scoped>\n",
       "    .dataframe tbody tr th:only-of-type {\n",
       "        vertical-align: middle;\n",
       "    }\n",
       "\n",
       "    .dataframe tbody tr th {\n",
       "        vertical-align: top;\n",
       "    }\n",
       "\n",
       "    .dataframe thead th {\n",
       "        text-align: right;\n",
       "    }\n",
       "</style>\n",
       "<table border=\"1\" class=\"dataframe\">\n",
       "  <thead>\n",
       "    <tr style=\"text-align: right;\">\n",
       "      <th></th>\n",
       "      <th>Admitidos/Desligados</th>\n",
       "      <th>Competência Declarada</th>\n",
       "      <th>Município</th>\n",
       "      <th>Ano Declarado</th>\n",
       "      <th>Grau Instrução</th>\n",
       "      <th>Idade</th>\n",
       "      <th>Raça Cor</th>\n",
       "      <th>Salário Mensal</th>\n",
       "      <th>Sexo</th>\n",
       "      <th>Tempo Emprego</th>\n",
       "      <th>UF</th>\n",
       "      <th>log_Salário</th>\n",
       "      <th>normal_log_salário</th>\n",
       "      <th>log_Idade</th>\n",
       "      <th>normal_log_idade</th>\n",
       "      <th>NovaCol</th>\n",
       "    </tr>\n",
       "  </thead>\n",
       "  <tbody>\n",
       "    <tr>\n",
       "      <th>1</th>\n",
       "      <td>1</td>\n",
       "      <td>201812</td>\n",
       "      <td>500710</td>\n",
       "      <td>2018</td>\n",
       "      <td>8</td>\n",
       "      <td>25</td>\n",
       "      <td>2</td>\n",
       "      <td>2500.0</td>\n",
       "      <td>1</td>\n",
       "      <td>0.0</td>\n",
       "      <td>50</td>\n",
       "      <td>7.824446</td>\n",
       "      <td>0.751796</td>\n",
       "      <td>3.218876</td>\n",
       "      <td>-0.610896</td>\n",
       "      <td>Superior Incompleto</td>\n",
       "    </tr>\n",
       "    <tr>\n",
       "      <th>17</th>\n",
       "      <td>1</td>\n",
       "      <td>201812</td>\n",
       "      <td>500800</td>\n",
       "      <td>2018</td>\n",
       "      <td>5</td>\n",
       "      <td>18</td>\n",
       "      <td>8</td>\n",
       "      <td>1700.0</td>\n",
       "      <td>1</td>\n",
       "      <td>0.0</td>\n",
       "      <td>50</td>\n",
       "      <td>7.438972</td>\n",
       "      <td>0.315298</td>\n",
       "      <td>2.890372</td>\n",
       "      <td>-1.606157</td>\n",
       "      <td>Fundamental Completo</td>\n",
       "    </tr>\n",
       "    <tr>\n",
       "      <th>21</th>\n",
       "      <td>1</td>\n",
       "      <td>201812</td>\n",
       "      <td>500325</td>\n",
       "      <td>2018</td>\n",
       "      <td>7</td>\n",
       "      <td>35</td>\n",
       "      <td>2</td>\n",
       "      <td>5000.0</td>\n",
       "      <td>1</td>\n",
       "      <td>0.0</td>\n",
       "      <td>50</td>\n",
       "      <td>8.517393</td>\n",
       "      <td>1.536468</td>\n",
       "      <td>3.555348</td>\n",
       "      <td>0.408506</td>\n",
       "      <td>Médio Completo</td>\n",
       "    </tr>\n",
       "    <tr>\n",
       "      <th>23</th>\n",
       "      <td>1</td>\n",
       "      <td>201812</td>\n",
       "      <td>500210</td>\n",
       "      <td>2018</td>\n",
       "      <td>4</td>\n",
       "      <td>45</td>\n",
       "      <td>8</td>\n",
       "      <td>2123.0</td>\n",
       "      <td>1</td>\n",
       "      <td>0.0</td>\n",
       "      <td>50</td>\n",
       "      <td>7.661056</td>\n",
       "      <td>0.566779</td>\n",
       "      <td>3.806662</td>\n",
       "      <td>1.169908</td>\n",
       "      <td>6ª a 9ª Fundamental</td>\n",
       "    </tr>\n",
       "    <tr>\n",
       "      <th>24</th>\n",
       "      <td>1</td>\n",
       "      <td>201812</td>\n",
       "      <td>500210</td>\n",
       "      <td>2018</td>\n",
       "      <td>6</td>\n",
       "      <td>31</td>\n",
       "      <td>8</td>\n",
       "      <td>2123.0</td>\n",
       "      <td>1</td>\n",
       "      <td>0.0</td>\n",
       "      <td>50</td>\n",
       "      <td>7.661056</td>\n",
       "      <td>0.566779</td>\n",
       "      <td>3.433987</td>\n",
       "      <td>0.040822</td>\n",
       "      <td>Médio Incompleto</td>\n",
       "    </tr>\n",
       "    <tr>\n",
       "      <th>...</th>\n",
       "      <td>...</td>\n",
       "      <td>...</td>\n",
       "      <td>...</td>\n",
       "      <td>...</td>\n",
       "      <td>...</td>\n",
       "      <td>...</td>\n",
       "      <td>...</td>\n",
       "      <td>...</td>\n",
       "      <td>...</td>\n",
       "      <td>...</td>\n",
       "      <td>...</td>\n",
       "      <td>...</td>\n",
       "      <td>...</td>\n",
       "      <td>...</td>\n",
       "      <td>...</td>\n",
       "      <td>...</td>\n",
       "    </tr>\n",
       "    <tr>\n",
       "      <th>2256725</th>\n",
       "      <td>2</td>\n",
       "      <td>201812</td>\n",
       "      <td>221120</td>\n",
       "      <td>2018</td>\n",
       "      <td>7</td>\n",
       "      <td>28</td>\n",
       "      <td>8</td>\n",
       "      <td>3000.0</td>\n",
       "      <td>1</td>\n",
       "      <td>26.0</td>\n",
       "      <td>22</td>\n",
       "      <td>8.006701</td>\n",
       "      <td>0.958176</td>\n",
       "      <td>3.332205</td>\n",
       "      <td>-0.267547</td>\n",
       "      <td>Médio Completo</td>\n",
       "    </tr>\n",
       "    <tr>\n",
       "      <th>2256727</th>\n",
       "      <td>2</td>\n",
       "      <td>201812</td>\n",
       "      <td>221100</td>\n",
       "      <td>2018</td>\n",
       "      <td>9</td>\n",
       "      <td>45</td>\n",
       "      <td>8</td>\n",
       "      <td>5475.0</td>\n",
       "      <td>1</td>\n",
       "      <td>109.0</td>\n",
       "      <td>22</td>\n",
       "      <td>8.608130</td>\n",
       "      <td>1.639215</td>\n",
       "      <td>3.806662</td>\n",
       "      <td>1.169908</td>\n",
       "      <td>Superior Completo</td>\n",
       "    </tr>\n",
       "    <tr>\n",
       "      <th>2256728</th>\n",
       "      <td>2</td>\n",
       "      <td>201812</td>\n",
       "      <td>221100</td>\n",
       "      <td>2018</td>\n",
       "      <td>9</td>\n",
       "      <td>44</td>\n",
       "      <td>8</td>\n",
       "      <td>5798.0</td>\n",
       "      <td>1</td>\n",
       "      <td>148.0</td>\n",
       "      <td>22</td>\n",
       "      <td>8.665441</td>\n",
       "      <td>1.704112</td>\n",
       "      <td>3.784190</td>\n",
       "      <td>1.101822</td>\n",
       "      <td>Superior Completo</td>\n",
       "    </tr>\n",
       "    <tr>\n",
       "      <th>2256729</th>\n",
       "      <td>2</td>\n",
       "      <td>201812</td>\n",
       "      <td>221000</td>\n",
       "      <td>2018</td>\n",
       "      <td>7</td>\n",
       "      <td>51</td>\n",
       "      <td>4</td>\n",
       "      <td>10849.0</td>\n",
       "      <td>1</td>\n",
       "      <td>373.0</td>\n",
       "      <td>22</td>\n",
       "      <td>9.291920</td>\n",
       "      <td>2.413518</td>\n",
       "      <td>3.931826</td>\n",
       "      <td>1.549112</td>\n",
       "      <td>Médio Completo</td>\n",
       "    </tr>\n",
       "    <tr>\n",
       "      <th>2256745</th>\n",
       "      <td>2</td>\n",
       "      <td>201812</td>\n",
       "      <td>221100</td>\n",
       "      <td>2018</td>\n",
       "      <td>6</td>\n",
       "      <td>63</td>\n",
       "      <td>8</td>\n",
       "      <td>2641.0</td>\n",
       "      <td>1</td>\n",
       "      <td>62.0</td>\n",
       "      <td>22</td>\n",
       "      <td>7.879291</td>\n",
       "      <td>0.813902</td>\n",
       "      <td>4.143135</td>\n",
       "      <td>2.189310</td>\n",
       "      <td>Médio Incompleto</td>\n",
       "    </tr>\n",
       "  </tbody>\n",
       "</table>\n",
       "<p>442609 rows × 16 columns</p>\n",
       "</div>"
      ],
      "text/plain": [
       "         Admitidos/Desligados  Competência Declarada  Município  \\\n",
       "1                           1                 201812     500710   \n",
       "17                          1                 201812     500800   \n",
       "21                          1                 201812     500325   \n",
       "23                          1                 201812     500210   \n",
       "24                          1                 201812     500210   \n",
       "...                       ...                    ...        ...   \n",
       "2256725                     2                 201812     221120   \n",
       "2256727                     2                 201812     221100   \n",
       "2256728                     2                 201812     221100   \n",
       "2256729                     2                 201812     221000   \n",
       "2256745                     2                 201812     221100   \n",
       "\n",
       "         Ano Declarado  Grau Instrução  Idade  Raça Cor  Salário Mensal  Sexo  \\\n",
       "1                 2018               8     25         2          2500.0     1   \n",
       "17                2018               5     18         8          1700.0     1   \n",
       "21                2018               7     35         2          5000.0     1   \n",
       "23                2018               4     45         8          2123.0     1   \n",
       "24                2018               6     31         8          2123.0     1   \n",
       "...                ...             ...    ...       ...             ...   ...   \n",
       "2256725           2018               7     28         8          3000.0     1   \n",
       "2256727           2018               9     45         8          5475.0     1   \n",
       "2256728           2018               9     44         8          5798.0     1   \n",
       "2256729           2018               7     51         4         10849.0     1   \n",
       "2256745           2018               6     63         8          2641.0     1   \n",
       "\n",
       "         Tempo Emprego  UF  log_Salário  normal_log_salário  log_Idade  \\\n",
       "1                  0.0  50     7.824446            0.751796   3.218876   \n",
       "17                 0.0  50     7.438972            0.315298   2.890372   \n",
       "21                 0.0  50     8.517393            1.536468   3.555348   \n",
       "23                 0.0  50     7.661056            0.566779   3.806662   \n",
       "24                 0.0  50     7.661056            0.566779   3.433987   \n",
       "...                ...  ..          ...                 ...        ...   \n",
       "2256725           26.0  22     8.006701            0.958176   3.332205   \n",
       "2256727          109.0  22     8.608130            1.639215   3.806662   \n",
       "2256728          148.0  22     8.665441            1.704112   3.784190   \n",
       "2256729          373.0  22     9.291920            2.413518   3.931826   \n",
       "2256745           62.0  22     7.879291            0.813902   4.143135   \n",
       "\n",
       "         normal_log_idade               NovaCol  \n",
       "1               -0.610896   Superior Incompleto  \n",
       "17              -1.606157  Fundamental Completo  \n",
       "21               0.408506        Médio Completo  \n",
       "23               1.169908   6ª a 9ª Fundamental  \n",
       "24               0.040822      Médio Incompleto  \n",
       "...                   ...                   ...  \n",
       "2256725         -0.267547        Médio Completo  \n",
       "2256727          1.169908     Superior Completo  \n",
       "2256728          1.101822     Superior Completo  \n",
       "2256729          1.549112        Médio Completo  \n",
       "2256745          2.189310      Médio Incompleto  \n",
       "\n",
       "[442609 rows x 16 columns]"
      ]
     },
     "execution_count": 52,
     "metadata": {
      "tags": []
     },
     "output_type": "execute_result"
    }
   ],
   "source": [
    "#Homens que ganham mais que a média das mulheres\n",
    "df_homens.loc[df['Salário Mensal'] >= media_M]"
   ]
  },
  {
   "cell_type": "code",
   "execution_count": null,
   "metadata": {
    "id": "HvS5QqgL8fAQ",
    "outputId": "5b5a0c0b-37a0-414d-9ce6-0c388331f2ec"
   },
   "outputs": [
    {
     "data": {
      "text/html": [
       "<div>\n",
       "<style scoped>\n",
       "    .dataframe tbody tr th:only-of-type {\n",
       "        vertical-align: middle;\n",
       "    }\n",
       "\n",
       "    .dataframe tbody tr th {\n",
       "        vertical-align: top;\n",
       "    }\n",
       "\n",
       "    .dataframe thead th {\n",
       "        text-align: right;\n",
       "    }\n",
       "</style>\n",
       "<table border=\"1\" class=\"dataframe\">\n",
       "  <thead>\n",
       "    <tr style=\"text-align: right;\">\n",
       "      <th></th>\n",
       "      <th>Admitidos/Desligados</th>\n",
       "      <th>Competência Declarada</th>\n",
       "      <th>Município</th>\n",
       "      <th>Ano Declarado</th>\n",
       "      <th>Grau Instrução</th>\n",
       "      <th>Idade</th>\n",
       "      <th>Raça Cor</th>\n",
       "      <th>Salário Mensal</th>\n",
       "      <th>Sexo</th>\n",
       "      <th>Tempo Emprego</th>\n",
       "      <th>UF</th>\n",
       "      <th>log_Salário</th>\n",
       "      <th>normal_log_salário</th>\n",
       "      <th>log_Idade</th>\n",
       "      <th>normal_log_idade</th>\n",
       "      <th>NovaCol</th>\n",
       "    </tr>\n",
       "  </thead>\n",
       "  <tbody>\n",
       "    <tr>\n",
       "      <th>40</th>\n",
       "      <td>1</td>\n",
       "      <td>201812</td>\n",
       "      <td>500830</td>\n",
       "      <td>2018</td>\n",
       "      <td>7</td>\n",
       "      <td>24</td>\n",
       "      <td>8</td>\n",
       "      <td>2898.0</td>\n",
       "      <td>2</td>\n",
       "      <td>0.0</td>\n",
       "      <td>50</td>\n",
       "      <td>7.972121</td>\n",
       "      <td>0.919019</td>\n",
       "      <td>3.178054</td>\n",
       "      <td>-0.734573</td>\n",
       "      <td>Médio Completo</td>\n",
       "    </tr>\n",
       "    <tr>\n",
       "      <th>61</th>\n",
       "      <td>1</td>\n",
       "      <td>201812</td>\n",
       "      <td>500740</td>\n",
       "      <td>2018</td>\n",
       "      <td>6</td>\n",
       "      <td>25</td>\n",
       "      <td>2</td>\n",
       "      <td>2206.0</td>\n",
       "      <td>2</td>\n",
       "      <td>0.0</td>\n",
       "      <td>50</td>\n",
       "      <td>7.699389</td>\n",
       "      <td>0.610186</td>\n",
       "      <td>3.218876</td>\n",
       "      <td>-0.610896</td>\n",
       "      <td>Médio Incompleto</td>\n",
       "    </tr>\n",
       "    <tr>\n",
       "      <th>96</th>\n",
       "      <td>1</td>\n",
       "      <td>201812</td>\n",
       "      <td>500370</td>\n",
       "      <td>2018</td>\n",
       "      <td>9</td>\n",
       "      <td>28</td>\n",
       "      <td>2</td>\n",
       "      <td>1900.0</td>\n",
       "      <td>2</td>\n",
       "      <td>0.0</td>\n",
       "      <td>50</td>\n",
       "      <td>7.550135</td>\n",
       "      <td>0.441176</td>\n",
       "      <td>3.332205</td>\n",
       "      <td>-0.267547</td>\n",
       "      <td>Superior Completo</td>\n",
       "    </tr>\n",
       "    <tr>\n",
       "      <th>104</th>\n",
       "      <td>1</td>\n",
       "      <td>201812</td>\n",
       "      <td>500793</td>\n",
       "      <td>2018</td>\n",
       "      <td>8</td>\n",
       "      <td>22</td>\n",
       "      <td>8</td>\n",
       "      <td>2131.0</td>\n",
       "      <td>2</td>\n",
       "      <td>0.0</td>\n",
       "      <td>50</td>\n",
       "      <td>7.664816</td>\n",
       "      <td>0.571036</td>\n",
       "      <td>3.091042</td>\n",
       "      <td>-0.998190</td>\n",
       "      <td>Superior Incompleto</td>\n",
       "    </tr>\n",
       "    <tr>\n",
       "      <th>126</th>\n",
       "      <td>1</td>\n",
       "      <td>201812</td>\n",
       "      <td>500370</td>\n",
       "      <td>2018</td>\n",
       "      <td>9</td>\n",
       "      <td>26</td>\n",
       "      <td>2</td>\n",
       "      <td>2851.0</td>\n",
       "      <td>2</td>\n",
       "      <td>0.0</td>\n",
       "      <td>50</td>\n",
       "      <td>7.955776</td>\n",
       "      <td>0.900510</td>\n",
       "      <td>3.258097</td>\n",
       "      <td>-0.492070</td>\n",
       "      <td>Superior Completo</td>\n",
       "    </tr>\n",
       "    <tr>\n",
       "      <th>...</th>\n",
       "      <td>...</td>\n",
       "      <td>...</td>\n",
       "      <td>...</td>\n",
       "      <td>...</td>\n",
       "      <td>...</td>\n",
       "      <td>...</td>\n",
       "      <td>...</td>\n",
       "      <td>...</td>\n",
       "      <td>...</td>\n",
       "      <td>...</td>\n",
       "      <td>...</td>\n",
       "      <td>...</td>\n",
       "      <td>...</td>\n",
       "      <td>...</td>\n",
       "      <td>...</td>\n",
       "      <td>...</td>\n",
       "    </tr>\n",
       "    <tr>\n",
       "      <th>2256730</th>\n",
       "      <td>2</td>\n",
       "      <td>201812</td>\n",
       "      <td>221100</td>\n",
       "      <td>2018</td>\n",
       "      <td>9</td>\n",
       "      <td>60</td>\n",
       "      <td>2</td>\n",
       "      <td>16079.0</td>\n",
       "      <td>2</td>\n",
       "      <td>483.0</td>\n",
       "      <td>22</td>\n",
       "      <td>9.685332</td>\n",
       "      <td>2.859004</td>\n",
       "      <td>4.094345</td>\n",
       "      <td>2.041491</td>\n",
       "      <td>Superior Completo</td>\n",
       "    </tr>\n",
       "    <tr>\n",
       "      <th>2256734</th>\n",
       "      <td>2</td>\n",
       "      <td>201812</td>\n",
       "      <td>221100</td>\n",
       "      <td>2018</td>\n",
       "      <td>7</td>\n",
       "      <td>25</td>\n",
       "      <td>8</td>\n",
       "      <td>3066.0</td>\n",
       "      <td>2</td>\n",
       "      <td>6.0</td>\n",
       "      <td>22</td>\n",
       "      <td>8.028455</td>\n",
       "      <td>0.982810</td>\n",
       "      <td>3.218876</td>\n",
       "      <td>-0.610896</td>\n",
       "      <td>Médio Completo</td>\n",
       "    </tr>\n",
       "    <tr>\n",
       "      <th>2256737</th>\n",
       "      <td>2</td>\n",
       "      <td>201812</td>\n",
       "      <td>221100</td>\n",
       "      <td>2018</td>\n",
       "      <td>9</td>\n",
       "      <td>51</td>\n",
       "      <td>2</td>\n",
       "      <td>3615.0</td>\n",
       "      <td>2</td>\n",
       "      <td>8.0</td>\n",
       "      <td>22</td>\n",
       "      <td>8.193124</td>\n",
       "      <td>1.169275</td>\n",
       "      <td>3.931826</td>\n",
       "      <td>1.549112</td>\n",
       "      <td>Superior Completo</td>\n",
       "    </tr>\n",
       "    <tr>\n",
       "      <th>2256746</th>\n",
       "      <td>2</td>\n",
       "      <td>201812</td>\n",
       "      <td>221100</td>\n",
       "      <td>2018</td>\n",
       "      <td>9</td>\n",
       "      <td>36</td>\n",
       "      <td>8</td>\n",
       "      <td>5724.0</td>\n",
       "      <td>2</td>\n",
       "      <td>48.0</td>\n",
       "      <td>22</td>\n",
       "      <td>8.652598</td>\n",
       "      <td>1.689569</td>\n",
       "      <td>3.583519</td>\n",
       "      <td>0.493855</td>\n",
       "      <td>Superior Completo</td>\n",
       "    </tr>\n",
       "    <tr>\n",
       "      <th>2256747</th>\n",
       "      <td>2</td>\n",
       "      <td>201812</td>\n",
       "      <td>221100</td>\n",
       "      <td>2018</td>\n",
       "      <td>9</td>\n",
       "      <td>59</td>\n",
       "      <td>8</td>\n",
       "      <td>5510.0</td>\n",
       "      <td>2</td>\n",
       "      <td>447.0</td>\n",
       "      <td>22</td>\n",
       "      <td>8.614501</td>\n",
       "      <td>1.646430</td>\n",
       "      <td>4.077537</td>\n",
       "      <td>1.990571</td>\n",
       "      <td>Superior Completo</td>\n",
       "    </tr>\n",
       "  </tbody>\n",
       "</table>\n",
       "<p>147899 rows × 16 columns</p>\n",
       "</div>"
      ],
      "text/plain": [
       "         Admitidos/Desligados  Competência Declarada  Município  \\\n",
       "40                          1                 201812     500830   \n",
       "61                          1                 201812     500740   \n",
       "96                          1                 201812     500370   \n",
       "104                         1                 201812     500793   \n",
       "126                         1                 201812     500370   \n",
       "...                       ...                    ...        ...   \n",
       "2256730                     2                 201812     221100   \n",
       "2256734                     2                 201812     221100   \n",
       "2256737                     2                 201812     221100   \n",
       "2256746                     2                 201812     221100   \n",
       "2256747                     2                 201812     221100   \n",
       "\n",
       "         Ano Declarado  Grau Instrução  Idade  Raça Cor  Salário Mensal  Sexo  \\\n",
       "40                2018               7     24         8          2898.0     2   \n",
       "61                2018               6     25         2          2206.0     2   \n",
       "96                2018               9     28         2          1900.0     2   \n",
       "104               2018               8     22         8          2131.0     2   \n",
       "126               2018               9     26         2          2851.0     2   \n",
       "...                ...             ...    ...       ...             ...   ...   \n",
       "2256730           2018               9     60         2         16079.0     2   \n",
       "2256734           2018               7     25         8          3066.0     2   \n",
       "2256737           2018               9     51         2          3615.0     2   \n",
       "2256746           2018               9     36         8          5724.0     2   \n",
       "2256747           2018               9     59         8          5510.0     2   \n",
       "\n",
       "         Tempo Emprego  UF  log_Salário  normal_log_salário  log_Idade  \\\n",
       "40                 0.0  50     7.972121            0.919019   3.178054   \n",
       "61                 0.0  50     7.699389            0.610186   3.218876   \n",
       "96                 0.0  50     7.550135            0.441176   3.332205   \n",
       "104                0.0  50     7.664816            0.571036   3.091042   \n",
       "126                0.0  50     7.955776            0.900510   3.258097   \n",
       "...                ...  ..          ...                 ...        ...   \n",
       "2256730          483.0  22     9.685332            2.859004   4.094345   \n",
       "2256734            6.0  22     8.028455            0.982810   3.218876   \n",
       "2256737            8.0  22     8.193124            1.169275   3.931826   \n",
       "2256746           48.0  22     8.652598            1.689569   3.583519   \n",
       "2256747          447.0  22     8.614501            1.646430   4.077537   \n",
       "\n",
       "         normal_log_idade              NovaCol  \n",
       "40              -0.734573       Médio Completo  \n",
       "61              -0.610896     Médio Incompleto  \n",
       "96              -0.267547    Superior Completo  \n",
       "104             -0.998190  Superior Incompleto  \n",
       "126             -0.492070    Superior Completo  \n",
       "...                   ...                  ...  \n",
       "2256730          2.041491    Superior Completo  \n",
       "2256734         -0.610896       Médio Completo  \n",
       "2256737          1.549112    Superior Completo  \n",
       "2256746          0.493855    Superior Completo  \n",
       "2256747          1.990571    Superior Completo  \n",
       "\n",
       "[147899 rows x 16 columns]"
      ]
     },
     "execution_count": 53,
     "metadata": {
      "tags": []
     },
     "output_type": "execute_result"
    }
   ],
   "source": [
    "#Mulheres que ganham mais que a média dos homens\n",
    "df_mulheres.loc[df['Salário Mensal'] >= media_H]"
   ]
  },
  {
   "cell_type": "markdown",
   "metadata": {
    "id": "_y9Yr0NX8fAQ"
   },
   "source": [
    "### 6. Verificação dos dados da variável **Raça Cor**: verifique os dados da variável Raça Cor, plote uma distribuição e uma dispersão, calcule a correlação com a variável salário mensal e interprete os resultados. Depois disso, faça uma inferência estatística pra verificar se os brancos ganham mais que os outros grupos étnicos.\n"
   ]
  },
  {
   "cell_type": "code",
   "execution_count": null,
   "metadata": {
    "id": "wJMUv9Lp8fAQ"
   },
   "outputs": [],
   "source": [
    "l = {1: 'Indigena', 2: 'Branca', 4:'Preta', 6:'Amarela', 8:'Parda', 9:'Não identificado', -1:'Ignorado'}\n",
    "df['RaçaCor_Lib'] = df['Raça Cor'].map(l)"
   ]
  },
  {
   "cell_type": "code",
   "execution_count": null,
   "metadata": {
    "id": "CcbZf4648fAQ",
    "outputId": "66bb4de2-2b39-41ad-cf05-52ca39055bb2"
   },
   "outputs": [
    {
     "data": {
      "image/png": "[encoded data removed]",
      "text/plain": [
       "<Figure size 720x720 with 1 Axes>"
      ]
     },
     "metadata": {
      "needs_background": "dark",
      "tags": []
     },
     "output_type": "display_data"
    }
   ],
   "source": [
    "plt.scatter(df['RaçaCor_Lib'], \n",
    "            df['Salário Mensal'], \n",
    "            marker = \".\",\n",
    "            alpha = 0.2\n",
    "           )\n",
    "plt.title('Dispersão: Salário Mensal x Raça/Cor')\n",
    "plt.xlabel('Raça/Cor')\n",
    "plt.ylabel(\"Salário Mensal\")\n",
    "plt.rcParams['figure.figsize'] = (10,10)\n",
    "plt.show()"
   ]
  },
  {
   "cell_type": "code",
   "execution_count": null,
   "metadata": {
    "id": "uYwKhXEH8fAR",
    "outputId": "cb286730-dc18-49f8-80f7-2e170e379b7c"
   },
   "outputs": [
    {
     "data": {
      "text/plain": [
       "Admitidos/Desligados                  2\n",
       "Competência Declarada            201812\n",
       "Município                        520870\n",
       "Ano Declarado                      2018\n",
       "Grau Instrução                        7\n",
       "Idade                                30\n",
       "Raça Cor                              8\n",
       "Salário Mensal                      954\n",
       "Sexo                                  1\n",
       "Tempo Emprego                        19\n",
       "UF                                   52\n",
       "log_Salário                     6.86171\n",
       "normal_log_salário            -0.338373\n",
       "log_Idade                        3.4012\n",
       "normal_log_idade             -0.0585204\n",
       "NovaCol                  Médio Completo\n",
       "RaçaCor_Lib                       Parda\n",
       "Name: 142830, dtype: object"
      ]
     },
     "execution_count": 56,
     "metadata": {
      "tags": []
     },
     "output_type": "execute_result"
    }
   ],
   "source": [
    "df.loc[df['Salário Mensal'].max()]"
   ]
  },
  {
   "cell_type": "code",
   "execution_count": null,
   "metadata": {
    "id": "O6oYrjPE8fAR",
    "outputId": "2c2f6b7f-b6eb-458a-9e49-d3f44e531670"
   },
   "outputs": [
    {
     "data": {
      "text/plain": [
       "Admitidos/Desligados                    1\n",
       "Competência Declarada              201812\n",
       "Município                          500215\n",
       "Ano Declarado                        2018\n",
       "Grau Instrução                          6\n",
       "Idade                                  24\n",
       "Raça Cor                                8\n",
       "Salário Mensal                        954\n",
       "Sexo                                    1\n",
       "Tempo Emprego                           0\n",
       "UF                                     50\n",
       "log_Salário                       6.86171\n",
       "normal_log_salário              -0.338373\n",
       "log_Idade                         3.17805\n",
       "normal_log_idade                -0.734573\n",
       "NovaCol                  Médio Incompleto\n",
       "RaçaCor_Lib                         Parda\n",
       "Name: 0, dtype: object"
      ]
     },
     "execution_count": 57,
     "metadata": {
      "tags": []
     },
     "output_type": "execute_result"
    }
   ],
   "source": [
    "df.loc[df['Salário Mensal'].min()]"
   ]
  },
  {
   "cell_type": "code",
   "execution_count": null,
   "metadata": {
    "id": "ZGXCNZ6E8fAR",
    "outputId": "83e2e19a-8881-472a-8977-f7b268964452"
   },
   "outputs": [
    {
     "data": {
      "text/plain": [
       "-0.07772690357307918"
      ]
     },
     "execution_count": 58,
     "metadata": {
      "tags": []
     },
     "output_type": "execute_result"
    }
   ],
   "source": [
    "df['Salário Mensal'].corr(df['Raça Cor'])"
   ]
  },
  {
   "cell_type": "code",
   "execution_count": null,
   "metadata": {
    "id": "DQRo4mqm8fAR",
    "outputId": "32a81b2b-f954-4143-fbc8-316496c0db19"
   },
   "outputs": [
    {
     "data": {
      "text/html": [
       "<div>\n",
       "<style scoped>\n",
       "    .dataframe tbody tr th:only-of-type {\n",
       "        vertical-align: middle;\n",
       "    }\n",
       "\n",
       "    .dataframe tbody tr th {\n",
       "        vertical-align: top;\n",
       "    }\n",
       "\n",
       "    .dataframe thead th {\n",
       "        text-align: right;\n",
       "    }\n",
       "</style>\n",
       "<table border=\"1\" class=\"dataframe\">\n",
       "  <thead>\n",
       "    <tr style=\"text-align: right;\">\n",
       "      <th></th>\n",
       "      <th>Salário Mensal</th>\n",
       "    </tr>\n",
       "    <tr>\n",
       "      <th>RaçaCor_Lib</th>\n",
       "      <th></th>\n",
       "    </tr>\n",
       "  </thead>\n",
       "  <tbody>\n",
       "    <tr>\n",
       "      <th>Amarela</th>\n",
       "      <td>2111.330215</td>\n",
       "    </tr>\n",
       "    <tr>\n",
       "      <th>Branca</th>\n",
       "      <td>1824.911142</td>\n",
       "    </tr>\n",
       "    <tr>\n",
       "      <th>Indigena</th>\n",
       "      <td>1767.240125</td>\n",
       "    </tr>\n",
       "    <tr>\n",
       "      <th>Não identificado</th>\n",
       "      <td>1497.205830</td>\n",
       "    </tr>\n",
       "    <tr>\n",
       "      <th>Parda</th>\n",
       "      <td>1459.304828</td>\n",
       "    </tr>\n",
       "    <tr>\n",
       "      <th>Preta</th>\n",
       "      <td>1451.797236</td>\n",
       "    </tr>\n",
       "  </tbody>\n",
       "</table>\n",
       "</div>"
      ],
      "text/plain": [
       "                  Salário Mensal\n",
       "RaçaCor_Lib                     \n",
       "Amarela              2111.330215\n",
       "Branca               1824.911142\n",
       "Indigena             1767.240125\n",
       "Não identificado     1497.205830\n",
       "Parda                1459.304828\n",
       "Preta                1451.797236"
      ]
     },
     "execution_count": 59,
     "metadata": {
      "tags": []
     },
     "output_type": "execute_result"
    }
   ],
   "source": [
    "grouped_rc = df[['RaçaCor_Lib', 'Salário Mensal']].groupby(df['RaçaCor_Lib'])\n",
    "media_rc = grouped_rc.mean()\n",
    "media_rc"
   ]
  },
  {
   "cell_type": "code",
   "execution_count": null,
   "metadata": {
    "id": "eRSbSwJZ8fAR",
    "outputId": "9d51a42d-5dcc-47da-9f55-7de341810578"
   },
   "outputs": [
    {
     "data": {
      "text/plain": [
       "2111.330215239306"
      ]
     },
     "execution_count": 60,
     "metadata": {
      "tags": []
     },
     "output_type": "execute_result"
    }
   ],
   "source": [
    "sal_amarelo = media_rc['Salário Mensal'][0]\n",
    "sal_amarelo"
   ]
  },
  {
   "cell_type": "code",
   "execution_count": null,
   "metadata": {
    "id": "Irfzy36A8fAR",
    "outputId": "53a1e723-5f48-4402-f5ce-a7a642f2f972"
   },
   "outputs": [
    {
     "name": "stdout",
     "output_type": "stream",
     "text": [
      "Amarelos que ganham mais que a maior média por raça: 2990 pessoas\n",
      "Brancos que ganham mais que a maior média por raça: 252801 pessoas\n",
      "Indigenas que ganham mais que a maior média por raça: 2290 pessoas\n",
      "Não Identificados que ganham mais que a maior média por raça: 55591 pessoas\n",
      "Pardos que ganham mais que a maior média por raça: 144456 pessoas\n",
      "Pretos que ganham mais que a maior média por raça: 22984 pessoas\n"
     ]
    }
   ],
   "source": [
    "print('Amarelos que ganham mais que a maior média por raça:', df.loc[df['RaçaCor_Lib'] == 'Amarela'].loc[df['Salário Mensal'] >= media_H].shape[0],'pessoas')\n",
    "print('Brancos que ganham mais que a maior média por raça:', df.loc[df['RaçaCor_Lib'] == 'Branca'].loc[df['Salário Mensal'] >= media_H].shape[0],'pessoas')\n",
    "print('Indigenas que ganham mais que a maior média por raça:', df.loc[df['RaçaCor_Lib'] == 'Indigena'].loc[df['Salário Mensal'] >= media_H].shape[0],'pessoas')\n",
    "print('Não Identificados que ganham mais que a maior média por raça:', df.loc[df['RaçaCor_Lib'] == 'Não identificado'].loc[df['Salário Mensal'] >= media_H].shape[0],'pessoas')\n",
    "print('Pardos que ganham mais que a maior média por raça:', df.loc[df['RaçaCor_Lib'] == 'Parda'].loc[df['Salário Mensal'] >= media_H].shape[0],'pessoas')\n",
    "print('Pretos que ganham mais que a maior média por raça:', df.loc[df['RaçaCor_Lib'] == 'Preta'].loc[df['Salário Mensal'] >= media_H].shape[0],'pessoas')"
   ]
  },
  {
   "cell_type": "markdown",
   "metadata": {
    "id": "Y_KqeK6x8fAS"
   },
   "source": [
    "#### Os brancos ganham mais que os outros grupos étnicos"
   ]
  },
  {
   "cell_type": "markdown",
   "metadata": {
    "id": "F5zSfhWR8fAS"
   },
   "source": [
    "### 7. Elaborar uma hipótese para ser rejeitada ou não-rejeitada por você de acordo com o resultado da sua análise, através da utilização dos dados do CAGED considerando as suas colunas."
   ]
  },
  {
   "cell_type": "markdown",
   "metadata": {
    "executionInfo": {
     "elapsed": 2290,
     "status": "ok",
     "timestamp": 1605713014443,
     "user": {
      "displayName": "Luis Henrique Batista Arantes",
      "photoUrl": "",
      "userId": "13194031754074181800"
     },
     "user_tz": 180
    },
    "id": "Zis5tlo18fAS"
   },
   "source": [
    "##### <font color='orange'> Hipótese Nula ($H_0$): Existem 45% ou mais pessoas admitidas do que demitidas no mercado de trabalho, de 2018 </font>\n",
    "##### <font color='orange'> Hipótese Alternativa ($H_1$): Existem 45% menos pessoas admitidas do que demitidas no mercado de trabalho, de 2018 </font>\n",
    "##### <font color='red'> Nível de significância de 5% </font>"
   ]
  },
  {
   "cell_type": "code",
   "execution_count": null,
   "metadata": {
    "id": "iGH77y5fHhBP",
    "outputId": "3eb00d7a-d8e0-4013-d492-cf1f755c2ef2"
   },
   "outputs": [
    {
     "data": {
      "image/png": "[encoded data removed]",
      "text/plain": [
       "<Figure size 720x720 with 1 Axes>"
      ]
     },
     "metadata": {
      "needs_background": "dark",
      "tags": []
     },
     "output_type": "display_data"
    }
   ],
   "source": [
    "histo_AD = plt.hist(df['Admitidos/Desligados'], \n",
    "                       bins=200, \n",
    "                       #range = (0,10000000)\n",
    "                      )\n",
    "plt.xlabel('Admitidos/Desligados')\n",
    "plt.ylabel(\"Frequência\")\n",
    "plt.rcParams['figure.figsize'] = (10,10)\n",
    "plt.show()"
   ]
  },
  {
   "cell_type": "code",
   "execution_count": null,
   "metadata": {
    "id": "aIxwLNDyHhBQ"
   },
   "outputs": [],
   "source": [
    "#Admissão = 1\n",
    "#Desligamento = 2"
   ]
  },
  {
   "cell_type": "code",
   "execution_count": null,
   "metadata": {
    "id": "u8xWLXagHhBQ"
   },
   "outputs": [],
   "source": [
    "#média\n",
    "mean = df['Admitidos/Desligados'].mean()\n",
    "#desvio padrão amostral\n",
    "std = df['Admitidos/Desligados'].std()\n",
    "#número de observações\n",
    "n = len(df['Admitidos/Desligados'])"
   ]
  },
  {
   "cell_type": "code",
   "execution_count": null,
   "metadata": {
    "id": "e6Ufj8VYHhBQ",
    "outputId": "94f116d0-7351-49e3-9d3d-951079f116da"
   },
   "outputs": [
    {
     "data": {
      "text/plain": [
       "(1.5740822722087529, 1.5741227587383781)"
      ]
     },
     "execution_count": 65,
     "metadata": {
      "tags": []
     },
     "output_type": "execute_result"
    }
   ],
   "source": [
    "# intervalo de confiança\n",
    "# da tabela Z-Score: 0.05 / 2 = 0.025 --> 0.0615\n",
    "mean - 0.0615*std/np.sqrt(n), mean + 0.0615*std/np.sqrt(n) "
   ]
  },
  {
   "cell_type": "code",
   "execution_count": null,
   "metadata": {
    "id": "ZqsPc-GCHhBQ",
    "outputId": "35580666-913d-45f1-af16-ea52d1172a69"
   },
   "outputs": [
    {
     "data": {
      "text/plain": [
       "(1.5740818749872005, 1.5741231559599305)"
      ]
     },
     "execution_count": 66,
     "metadata": {
      "tags": []
     },
     "output_type": "execute_result"
    }
   ],
   "source": [
    "# Calculando o intervalo de confiança pelo Scipy.Stats\n",
    "st.norm.interval(alpha=0.05, loc=mean, scale=std/np.sqrt(n))"
   ]
  },
  {
   "cell_type": "code",
   "execution_count": null,
   "metadata": {
    "id": "moj9x1eeHhBR"
   },
   "outputs": [],
   "source": [
    "# isolando os limites de valor inferior e superior\n",
    "limite_inferior = st.norm.interval(alpha=0.05, loc=mean, scale=std/np.sqrt(n))[0]\n",
    "limite_superior = st.norm.interval(alpha=0.05, loc=mean, scale=std/np.sqrt(n))[1]"
   ]
  },
  {
   "cell_type": "code",
   "execution_count": null,
   "metadata": {
    "id": "EXO6-GomHhBR",
    "outputId": "63a9daa1-32df-4476-c6b6-0c25fafdd92c"
   },
   "outputs": [
    {
     "data": {
      "text/plain": [
       "(1.5740818749872005, 1.5741231559599305)"
      ]
     },
     "execution_count": 68,
     "metadata": {
      "tags": []
     },
     "output_type": "execute_result"
    }
   ],
   "source": [
    "limite_inferior, limite_superior"
   ]
  },
  {
   "cell_type": "code",
   "execution_count": null,
   "metadata": {
    "id": "rVXIsgNfHhBR",
    "outputId": "e093f8bd-2334-4fbb-8ffa-d9bd75d89ab2"
   },
   "outputs": [
    {
     "data": {
      "text/plain": [
       "False"
      ]
     },
     "execution_count": 69,
     "metadata": {
      "tags": []
     },
     "output_type": "execute_result"
    }
   ],
   "source": [
    "p_H0 = 0.45\n",
    "limite_inferior < p_H0 < limite_superior"
   ]
  },
  {
   "cell_type": "code",
   "execution_count": null,
   "metadata": {
    "id": "NYuGcLMBHhBS",
    "outputId": "6e353a82-9dea-44fd-c29a-c1e95a55b9d3"
   },
   "outputs": [
    {
     "data": {
      "text/plain": [
       "1.0"
      ]
     },
     "execution_count": 70,
     "metadata": {
      "tags": []
     },
     "output_type": "execute_result"
    }
   ],
   "source": [
    "sided_p_value = st.norm(loc=mean, scale=std/np.sqrt(n)).sf(0.45) \n",
    "sided_p_value"
   ]
  },
  {
   "cell_type": "code",
   "execution_count": null,
   "metadata": {
    "id": "EEipn88MHhBS",
    "outputId": "0451f518-e42d-4aaf-e5d0-625faae4b20a"
   },
   "outputs": [
    {
     "data": {
      "text/plain": [
       "2.0"
      ]
     },
     "execution_count": 71,
     "metadata": {
      "tags": []
     },
     "output_type": "execute_result"
    }
   ],
   "source": [
    "p_value = 2*sided_p_value\n",
    "p_value"
   ]
  },
  {
   "cell_type": "code",
   "execution_count": null,
   "metadata": {
    "id": "4i6CKm-vHhBS",
    "outputId": "a2a6e443-c3b6-437c-98aa-13af54baf579"
   },
   "outputs": [
    {
     "data": {
      "text/plain": [
       "Ttest_indResult(statistic=318.3776024547895, pvalue=0.0)"
      ]
     },
     "execution_count": 72,
     "metadata": {
      "tags": []
     },
     "output_type": "execute_result"
    }
   ],
   "source": [
    "stats.ttest_ind(a=df['Admitidos/Desligados'] == 2,\n",
    "                b=df['Admitidos/Desligados'] == 1, \n",
    "                equal_var = False)"
   ]
  },
  {
   "cell_type": "code",
   "execution_count": null,
   "metadata": {
    "id": "g6QnnDJiHhBS"
   },
   "outputs": [],
   "source": [
    "#Conclusão: que existem mais pessoas desligadas do que empregadas, no mercado de trabalho."
   ]
  },
  {
   "cell_type": "markdown",
   "metadata": {
    "id": "CZGvJojtHhBT"
   },
   "source": [
    "#### 8. Avançado: plote um SEABORN heatmap com **todas as correlações das variávies numéricas entre si**. "
   ]
  },
  {
   "cell_type": "code",
   "execution_count": null,
   "metadata": {
    "id": "fTsMEWm4HhBT"
   },
   "outputs": [],
   "source": [
    "df_heatmap = df.drop(columns = ['NovaCol', 'log_Salário', 'normal_log_salário', 'log_Idade', 'normal_log_idade', 'RaçaCor_Lib', 'Competência Declarada', 'Ano Declarado' ])"
   ]
  },
  {
   "cell_type": "code",
   "execution_count": null,
   "metadata": {
    "id": "8o071NEAHhBT",
    "outputId": "88631e46-de5c-4cff-ceca-66c50029742e"
   },
   "outputs": [
    {
     "data": {
      "text/html": [
       "<div>\n",
       "<style scoped>\n",
       "    .dataframe tbody tr th:only-of-type {\n",
       "        vertical-align: middle;\n",
       "    }\n",
       "\n",
       "    .dataframe tbody tr th {\n",
       "        vertical-align: top;\n",
       "    }\n",
       "\n",
       "    .dataframe thead th {\n",
       "        text-align: right;\n",
       "    }\n",
       "</style>\n",
       "<table border=\"1\" class=\"dataframe\">\n",
       "  <thead>\n",
       "    <tr style=\"text-align: right;\">\n",
       "      <th></th>\n",
       "      <th>Admitidos/Desligados</th>\n",
       "      <th>Município</th>\n",
       "      <th>Grau Instrução</th>\n",
       "      <th>Idade</th>\n",
       "      <th>Raça Cor</th>\n",
       "      <th>Salário Mensal</th>\n",
       "      <th>Sexo</th>\n",
       "      <th>Tempo Emprego</th>\n",
       "      <th>UF</th>\n",
       "    </tr>\n",
       "  </thead>\n",
       "  <tbody>\n",
       "    <tr>\n",
       "      <th>Admitidos/Desligados</th>\n",
       "      <td>1.000000</td>\n",
       "      <td>0.009665</td>\n",
       "      <td>-0.031150</td>\n",
       "      <td>0.110487</td>\n",
       "      <td>-0.039206</td>\n",
       "      <td>0.044920</td>\n",
       "      <td>-0.013509</td>\n",
       "      <td>0.332575</td>\n",
       "      <td>0.009635</td>\n",
       "    </tr>\n",
       "    <tr>\n",
       "      <th>Município</th>\n",
       "      <td>0.009665</td>\n",
       "      <td>1.000000</td>\n",
       "      <td>-0.012695</td>\n",
       "      <td>-0.012762</td>\n",
       "      <td>-0.149845</td>\n",
       "      <td>0.026354</td>\n",
       "      <td>0.027401</td>\n",
       "      <td>-0.005550</td>\n",
       "      <td>0.999744</td>\n",
       "    </tr>\n",
       "    <tr>\n",
       "      <th>Grau Instrução</th>\n",
       "      <td>-0.031150</td>\n",
       "      <td>-0.012695</td>\n",
       "      <td>1.000000</td>\n",
       "      <td>-0.110878</td>\n",
       "      <td>-0.062680</td>\n",
       "      <td>0.184702</td>\n",
       "      <td>0.205090</td>\n",
       "      <td>0.041182</td>\n",
       "      <td>-0.013805</td>\n",
       "    </tr>\n",
       "    <tr>\n",
       "      <th>Idade</th>\n",
       "      <td>0.110487</td>\n",
       "      <td>-0.012762</td>\n",
       "      <td>-0.110878</td>\n",
       "      <td>1.000000</td>\n",
       "      <td>-0.036528</td>\n",
       "      <td>0.151294</td>\n",
       "      <td>-0.066302</td>\n",
       "      <td>0.276203</td>\n",
       "      <td>-0.013023</td>\n",
       "    </tr>\n",
       "    <tr>\n",
       "      <th>Raça Cor</th>\n",
       "      <td>-0.039206</td>\n",
       "      <td>-0.149845</td>\n",
       "      <td>-0.062680</td>\n",
       "      <td>-0.036528</td>\n",
       "      <td>1.000000</td>\n",
       "      <td>-0.077727</td>\n",
       "      <td>-0.059259</td>\n",
       "      <td>-0.092636</td>\n",
       "      <td>-0.147059</td>\n",
       "    </tr>\n",
       "    <tr>\n",
       "      <th>Salário Mensal</th>\n",
       "      <td>0.044920</td>\n",
       "      <td>0.026354</td>\n",
       "      <td>0.184702</td>\n",
       "      <td>0.151294</td>\n",
       "      <td>-0.077727</td>\n",
       "      <td>1.000000</td>\n",
       "      <td>-0.042394</td>\n",
       "      <td>0.201733</td>\n",
       "      <td>0.024928</td>\n",
       "    </tr>\n",
       "    <tr>\n",
       "      <th>Sexo</th>\n",
       "      <td>-0.013509</td>\n",
       "      <td>0.027401</td>\n",
       "      <td>0.205090</td>\n",
       "      <td>-0.066302</td>\n",
       "      <td>-0.059259</td>\n",
       "      <td>-0.042394</td>\n",
       "      <td>1.000000</td>\n",
       "      <td>0.009666</td>\n",
       "      <td>0.026933</td>\n",
       "    </tr>\n",
       "    <tr>\n",
       "      <th>Tempo Emprego</th>\n",
       "      <td>0.332575</td>\n",
       "      <td>-0.005550</td>\n",
       "      <td>0.041182</td>\n",
       "      <td>0.276203</td>\n",
       "      <td>-0.092636</td>\n",
       "      <td>0.201733</td>\n",
       "      <td>0.009666</td>\n",
       "      <td>1.000000</td>\n",
       "      <td>-0.005795</td>\n",
       "    </tr>\n",
       "    <tr>\n",
       "      <th>UF</th>\n",
       "      <td>0.009635</td>\n",
       "      <td>0.999744</td>\n",
       "      <td>-0.013805</td>\n",
       "      <td>-0.013023</td>\n",
       "      <td>-0.147059</td>\n",
       "      <td>0.024928</td>\n",
       "      <td>0.026933</td>\n",
       "      <td>-0.005795</td>\n",
       "      <td>1.000000</td>\n",
       "    </tr>\n",
       "  </tbody>\n",
       "</table>\n",
       "</div>"
      ],
      "text/plain": [
       "                      Admitidos/Desligados  Município  Grau Instrução  \\\n",
       "Admitidos/Desligados              1.000000   0.009665       -0.031150   \n",
       "Município                         0.009665   1.000000       -0.012695   \n",
       "Grau Instrução                   -0.031150  -0.012695        1.000000   \n",
       "Idade                             0.110487  -0.012762       -0.110878   \n",
       "Raça Cor                         -0.039206  -0.149845       -0.062680   \n",
       "Salário Mensal                    0.044920   0.026354        0.184702   \n",
       "Sexo                             -0.013509   0.027401        0.205090   \n",
       "Tempo Emprego                     0.332575  -0.005550        0.041182   \n",
       "UF                                0.009635   0.999744       -0.013805   \n",
       "\n",
       "                         Idade  Raça Cor  Salário Mensal      Sexo  \\\n",
       "Admitidos/Desligados  0.110487 -0.039206        0.044920 -0.013509   \n",
       "Município            -0.012762 -0.149845        0.026354  0.027401   \n",
       "Grau Instrução       -0.110878 -0.062680        0.184702  0.205090   \n",
       "Idade                 1.000000 -0.036528        0.151294 -0.066302   \n",
       "Raça Cor             -0.036528  1.000000       -0.077727 -0.059259   \n",
       "Salário Mensal        0.151294 -0.077727        1.000000 -0.042394   \n",
       "Sexo                 -0.066302 -0.059259       -0.042394  1.000000   \n",
       "Tempo Emprego         0.276203 -0.092636        0.201733  0.009666   \n",
       "UF                   -0.013023 -0.147059        0.024928  0.026933   \n",
       "\n",
       "                      Tempo Emprego        UF  \n",
       "Admitidos/Desligados       0.332575  0.009635  \n",
       "Município                 -0.005550  0.999744  \n",
       "Grau Instrução             0.041182 -0.013805  \n",
       "Idade                      0.276203 -0.013023  \n",
       "Raça Cor                  -0.092636 -0.147059  \n",
       "Salário Mensal             0.201733  0.024928  \n",
       "Sexo                       0.009666  0.026933  \n",
       "Tempo Emprego              1.000000 -0.005795  \n",
       "UF                        -0.005795  1.000000  "
      ]
     },
     "execution_count": 81,
     "metadata": {
      "tags": []
     },
     "output_type": "execute_result"
    }
   ],
   "source": [
    "df_heatmap.corr()\n",
    "#sns.heatmap(df_heatmap)"
   ]
  },
  {
   "cell_type": "code",
   "execution_count": null,
   "metadata": {
    "id": "w022HbgJHhBT",
    "outputId": "67e35402-eeac-4d1b-be16-f47da85fb3ee"
   },
   "outputs": [
    {
     "data": {
      "text/plain": [
       "<AxesSubplot:>"
      ]
     },
     "execution_count": 84,
     "metadata": {
      "tags": []
     },
     "output_type": "execute_result"
    },
    {
     "data": {
      "image/png": "[encoded data removed]",
      "text/plain": [
       "<Figure size 648x504 with 2 Axes>"
      ]
     },
     "metadata": {
      "needs_background": "dark",
      "tags": []
     },
     "output_type": "display_data"
    }
   ],
   "source": [
    "fig, ax = plt.subplots(figsize=(9, 7)) \n",
    "\n",
    "sns.heatmap(\n",
    "    df_heatmap,\n",
    "   )"
   ]
  },
  {
   "cell_type": "code",
   "execution_count": null,
   "metadata": {
    "id": "tRCrmWpCHhBU"
   },
   "outputs": [],
   "source": []
  }
 ],
 "metadata": {
  "colab": {
   "collapsed_sections": [],
   "name": "desafio1.ipynb",
   "provenance": []
  },
  "kernelspec": {
   "display_name": "Python 3",
   "language": "python",
   "name": "python3"
  },
  "language_info": {
   "codemirror_mode": {
    "name": "ipython",
    "version": 3
   },
   "file_extension": ".py",
   "mimetype": "text/x-python",
   "name": "python",
   "nbconvert_exporter": "python",
   "pygments_lexer": "ipython3",
   "version": "3.8.5"
  },
  "latex_envs": {
   "LaTeX_envs_menu_present": true,
   "autoclose": false,
   "autocomplete": true,
   "bibliofile": "biblio.bib",
   "cite_by": "apalike",
   "current_citInitial": 1,
   "eqLabelWithNumbers": true,
   "eqNumInitial": 1,
   "hotkeys": {
    "equation": "Ctrl-E",
    "itemize": "Ctrl-I"
   },
   "labels_anchors": false,
   "latex_user_defs": false,
   "report_style_numbering": false,
   "user_envs_cfg": false
  },
  "toc": {
   "base_numbering": 1,
   "nav_menu": {},
   "number_sections": true,
   "sideBar": true,
   "skip_h1_title": false,
   "title_cell": "Table of Contents",
   "title_sidebar": "Contents",
   "toc_cell": false,
   "toc_position": {},
   "toc_section_display": true,
   "toc_window_display": false
  },
  "varInspector": {
   "cols": {
    "lenName": 16,
    "lenType": 16,
    "lenVar": 40
   },
   "kernels_config": {
    "python": {
     "delete_cmd_postfix": "",
     "delete_cmd_prefix": "del ",
     "library": "var_list.py",
     "varRefreshCmd": "print(var_dic_list())"
    },
    "r": {
     "delete_cmd_postfix": ") ",
     "delete_cmd_prefix": "rm(",
     "library": "var_list.r",
     "varRefreshCmd": "cat(var_dic_list()) "
    }
   },
   "types_to_exclude": [
    "module",
    "function",
    "builtin_function_or_method",
    "instance",
    "_Feature"
   ],
   "window_display": false
  }
 },
 "nbformat": 4,
 "nbformat_minor": 1
}
